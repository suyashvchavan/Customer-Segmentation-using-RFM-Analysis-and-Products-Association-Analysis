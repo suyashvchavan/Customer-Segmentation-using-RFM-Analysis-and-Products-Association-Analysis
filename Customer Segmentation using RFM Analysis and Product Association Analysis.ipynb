{
 "cells": [
  {
   "cell_type": "code",
   "execution_count": 22,
   "metadata": {},
   "outputs": [],
   "source": [
    "import pandas as pd\n",
    "import numpy as np\n",
    "import itertools\n",
    "import matplotlib.pyplot as plt\n",
    "import seaborn as sns\n",
    "from scipy import stats\n",
    "from sklearn.preprocessing import StandardScaler,PowerTransformer,RobustScaler\n",
    "from sklearn.cluster import KMeans\n",
    "from sklearn.metrics import silhouette_score\n",
    "from apyori import apriori\n",
    "from itertools import combinations, groupby,chain\n",
    "from collections import Counter\n",
    "import ast\n",
    "\n",
    "%matplotlib inline "
   ]
  },
  {
   "cell_type": "markdown",
   "metadata": {},
   "source": [
    "### Project Objective:\n",
    "\n",
    "1. Customer Segmentation for better understanding of their purchase behavior<br>\n",
    "2. Stategize marketing plans to improve AOV(Average Order Value) and Revenue<br>\n",
    "3. Conducting Product association analysis to improve product recommendations<br>"
   ]
  },
  {
   "cell_type": "markdown",
   "metadata": {},
   "source": [
    "### Methodology:\n",
    "\n",
    "1. __Loadind The Data__:<br>\n",
    " ***\n",
    "2. __Data Preprocessing__:<br>\n",
    "2.1 Removing doubtful entries<br>\n",
    "2.2 Final Data\n",
    "***\n",
    "3. __RFM Analysis__:<br>\n",
    "3.1 Recency<br>\n",
    "3.2 Frequency<br>\n",
    "3.3 Monetary<br>\n",
    "3.4 Creating RFM Table<br>\n",
    "3.5 Customer Segmentation using RFM Model<br>\n",
    "***\n",
    "4. __Customer Segmentation using Kmeans clustering__:<br>\n",
    "4.1 Data preprocessing<br>\n",
    "4.2 Selecting Kmeans Clusters<br>\n",
    "4.3 Kmeans cluster model<br>\n",
    "4.4 Cluster Analysis<br>\n",
    "***\n",
    "5. __Customer Segmentation and Marketing Strategies based on Kmeans Clusters and RFM Score__:<br>\n",
    "5.1 Based on Kmeans Clustering<br>\n",
    "5.2 Based on RFM Score<br>\n",
    "***\n",
    "6. __Product Association Analysis__:<br>\n",
    "6.1 Introduction to Support, Confidence & Lift<br>\n",
    "6.2 Supporting Functions for Apriori Algorithm<br>\n",
    "6.3 Apriori Algorithm<br>\n",
    "6.4 Association rule result interpretation<br>\n",
    "***"
   ]
  },
  {
   "cell_type": "markdown",
   "metadata": {},
   "source": [
    "## 1.Loading the Data"
   ]
  },
  {
   "cell_type": "code",
   "execution_count": 23,
   "metadata": {},
   "outputs": [],
   "source": [
    "df = pd.read_csv('data.csv',encoding=\"ISO-8859-1\")"
   ]
  },
  {
   "cell_type": "code",
   "execution_count": 24,
   "metadata": {},
   "outputs": [
    {
     "data": {
      "text/html": [
       "<div>\n",
       "<style scoped>\n",
       "    .dataframe tbody tr th:only-of-type {\n",
       "        vertical-align: middle;\n",
       "    }\n",
       "\n",
       "    .dataframe tbody tr th {\n",
       "        vertical-align: top;\n",
       "    }\n",
       "\n",
       "    .dataframe thead th {\n",
       "        text-align: right;\n",
       "    }\n",
       "</style>\n",
       "<table border=\"1\" class=\"dataframe\">\n",
       "  <thead>\n",
       "    <tr style=\"text-align: right;\">\n",
       "      <th></th>\n",
       "      <th>InvoiceNo</th>\n",
       "      <th>StockCode</th>\n",
       "      <th>Description</th>\n",
       "      <th>Quantity</th>\n",
       "      <th>InvoiceDate</th>\n",
       "      <th>UnitPrice</th>\n",
       "      <th>CustomerID</th>\n",
       "      <th>Country</th>\n",
       "    </tr>\n",
       "  </thead>\n",
       "  <tbody>\n",
       "    <tr>\n",
       "      <th>0</th>\n",
       "      <td>536365</td>\n",
       "      <td>85123A</td>\n",
       "      <td>WHITE HANGING HEART T-LIGHT HOLDER</td>\n",
       "      <td>6</td>\n",
       "      <td>12/1/2010 8:26</td>\n",
       "      <td>2.55</td>\n",
       "      <td>17850.0</td>\n",
       "      <td>United Kingdom</td>\n",
       "    </tr>\n",
       "    <tr>\n",
       "      <th>1</th>\n",
       "      <td>536365</td>\n",
       "      <td>71053</td>\n",
       "      <td>WHITE METAL LANTERN</td>\n",
       "      <td>6</td>\n",
       "      <td>12/1/2010 8:26</td>\n",
       "      <td>3.39</td>\n",
       "      <td>17850.0</td>\n",
       "      <td>United Kingdom</td>\n",
       "    </tr>\n",
       "    <tr>\n",
       "      <th>2</th>\n",
       "      <td>536365</td>\n",
       "      <td>84406B</td>\n",
       "      <td>CREAM CUPID HEARTS COAT HANGER</td>\n",
       "      <td>8</td>\n",
       "      <td>12/1/2010 8:26</td>\n",
       "      <td>2.75</td>\n",
       "      <td>17850.0</td>\n",
       "      <td>United Kingdom</td>\n",
       "    </tr>\n",
       "    <tr>\n",
       "      <th>3</th>\n",
       "      <td>536365</td>\n",
       "      <td>84029G</td>\n",
       "      <td>KNITTED UNION FLAG HOT WATER BOTTLE</td>\n",
       "      <td>6</td>\n",
       "      <td>12/1/2010 8:26</td>\n",
       "      <td>3.39</td>\n",
       "      <td>17850.0</td>\n",
       "      <td>United Kingdom</td>\n",
       "    </tr>\n",
       "    <tr>\n",
       "      <th>4</th>\n",
       "      <td>536365</td>\n",
       "      <td>84029E</td>\n",
       "      <td>RED WOOLLY HOTTIE WHITE HEART.</td>\n",
       "      <td>6</td>\n",
       "      <td>12/1/2010 8:26</td>\n",
       "      <td>3.39</td>\n",
       "      <td>17850.0</td>\n",
       "      <td>United Kingdom</td>\n",
       "    </tr>\n",
       "  </tbody>\n",
       "</table>\n",
       "</div>"
      ],
      "text/plain": [
       "  InvoiceNo StockCode                          Description  Quantity  \\\n",
       "0    536365    85123A   WHITE HANGING HEART T-LIGHT HOLDER         6   \n",
       "1    536365     71053                  WHITE METAL LANTERN         6   \n",
       "2    536365    84406B       CREAM CUPID HEARTS COAT HANGER         8   \n",
       "3    536365    84029G  KNITTED UNION FLAG HOT WATER BOTTLE         6   \n",
       "4    536365    84029E       RED WOOLLY HOTTIE WHITE HEART.         6   \n",
       "\n",
       "      InvoiceDate  UnitPrice  CustomerID         Country  \n",
       "0  12/1/2010 8:26       2.55     17850.0  United Kingdom  \n",
       "1  12/1/2010 8:26       3.39     17850.0  United Kingdom  \n",
       "2  12/1/2010 8:26       2.75     17850.0  United Kingdom  \n",
       "3  12/1/2010 8:26       3.39     17850.0  United Kingdom  \n",
       "4  12/1/2010 8:26       3.39     17850.0  United Kingdom  "
      ]
     },
     "execution_count": 24,
     "metadata": {},
     "output_type": "execute_result"
    }
   ],
   "source": [
    "df.head()"
   ]
  },
  {
   "cell_type": "markdown",
   "metadata": {},
   "source": [
    "## 2.Data Preprocessing"
   ]
  },
  {
   "cell_type": "code",
   "execution_count": 25,
   "metadata": {},
   "outputs": [
    {
     "name": "stdout",
     "output_type": "stream",
     "text": [
      "<class 'pandas.core.frame.DataFrame'>\n",
      "RangeIndex: 541909 entries, 0 to 541908\n",
      "Data columns (total 8 columns):\n",
      " #   Column       Non-Null Count   Dtype  \n",
      "---  ------       --------------   -----  \n",
      " 0   InvoiceNo    541909 non-null  object \n",
      " 1   StockCode    541909 non-null  object \n",
      " 2   Description  540455 non-null  object \n",
      " 3   Quantity     541909 non-null  int64  \n",
      " 4   InvoiceDate  541909 non-null  object \n",
      " 5   UnitPrice    541909 non-null  float64\n",
      " 6   CustomerID   406829 non-null  float64\n",
      " 7   Country      541909 non-null  object \n",
      "dtypes: float64(2), int64(1), object(5)\n",
      "memory usage: 33.1+ MB\n"
     ]
    }
   ],
   "source": [
    "df.info()"
   ]
  },
  {
   "cell_type": "code",
   "execution_count": 26,
   "metadata": {},
   "outputs": [],
   "source": [
    "### Checking Null Values"
   ]
  },
  {
   "cell_type": "code",
   "execution_count": 27,
   "metadata": {},
   "outputs": [
    {
     "data": {
      "text/plain": [
       "InvoiceNo           0\n",
       "StockCode           0\n",
       "Description      1454\n",
       "Quantity            0\n",
       "InvoiceDate         0\n",
       "UnitPrice           0\n",
       "CustomerID     135080\n",
       "Country             0\n",
       "dtype: int64"
      ]
     },
     "execution_count": 27,
     "metadata": {},
     "output_type": "execute_result"
    }
   ],
   "source": [
    "df.isnull().sum()"
   ]
  },
  {
   "cell_type": "code",
   "execution_count": 28,
   "metadata": {},
   "outputs": [],
   "source": [
    "## Customer ID is Important Attribute for customer Segmentation analysis,so removing Null values makes sense.\n",
    "## We can afford to have null values for Description attribute"
   ]
  },
  {
   "cell_type": "code",
   "execution_count": 29,
   "metadata": {},
   "outputs": [],
   "source": [
    "df = df[df['CustomerID'].notnull()]\n",
    "df.drop_duplicates(inplace= True)"
   ]
  },
  {
   "cell_type": "code",
   "execution_count": 30,
   "metadata": {},
   "outputs": [],
   "source": [
    "## Customer ID should be string"
   ]
  },
  {
   "cell_type": "code",
   "execution_count": 31,
   "metadata": {},
   "outputs": [],
   "source": [
    "df['CustomerID'] = df['CustomerID'].apply(str)\n",
    "df['CustomerID'] = df['CustomerID'].apply(lambda x:x.split('.')[0])\n",
    "df['InvoiceDate'] = pd.to_datetime(df['InvoiceDate']).dt.date"
   ]
  },
  {
   "cell_type": "code",
   "execution_count": 32,
   "metadata": {
    "scrolled": true
   },
   "outputs": [
    {
     "data": {
      "text/html": [
       "<div>\n",
       "<style scoped>\n",
       "    .dataframe tbody tr th:only-of-type {\n",
       "        vertical-align: middle;\n",
       "    }\n",
       "\n",
       "    .dataframe tbody tr th {\n",
       "        vertical-align: top;\n",
       "    }\n",
       "\n",
       "    .dataframe thead th {\n",
       "        text-align: right;\n",
       "    }\n",
       "</style>\n",
       "<table border=\"1\" class=\"dataframe\">\n",
       "  <thead>\n",
       "    <tr style=\"text-align: right;\">\n",
       "      <th></th>\n",
       "      <th>Proportion_of_orders</th>\n",
       "    </tr>\n",
       "  </thead>\n",
       "  <tbody>\n",
       "    <tr>\n",
       "      <th>United Kingdom</th>\n",
       "      <td>0.888258</td>\n",
       "    </tr>\n",
       "    <tr>\n",
       "      <th>Germany</th>\n",
       "      <td>0.023605</td>\n",
       "    </tr>\n",
       "    <tr>\n",
       "      <th>France</th>\n",
       "      <td>0.021103</td>\n",
       "    </tr>\n",
       "    <tr>\n",
       "      <th>EIRE</th>\n",
       "      <td>0.018613</td>\n",
       "    </tr>\n",
       "    <tr>\n",
       "      <th>Spain</th>\n",
       "      <td>0.006295</td>\n",
       "    </tr>\n",
       "    <tr>\n",
       "      <th>Netherlands</th>\n",
       "      <td>0.005904</td>\n",
       "    </tr>\n",
       "    <tr>\n",
       "      <th>Belgium</th>\n",
       "      <td>0.005152</td>\n",
       "    </tr>\n",
       "    <tr>\n",
       "      <th>Switzerland</th>\n",
       "      <td>0.004674</td>\n",
       "    </tr>\n",
       "    <tr>\n",
       "      <th>Portugal</th>\n",
       "      <td>0.003663</td>\n",
       "    </tr>\n",
       "    <tr>\n",
       "      <th>Australia</th>\n",
       "      <td>0.003132</td>\n",
       "    </tr>\n",
       "    <tr>\n",
       "      <th>Norway</th>\n",
       "      <td>0.002704</td>\n",
       "    </tr>\n",
       "    <tr>\n",
       "      <th>Italy</th>\n",
       "      <td>0.001999</td>\n",
       "    </tr>\n",
       "    <tr>\n",
       "      <th>Channel Islands</th>\n",
       "      <td>0.001885</td>\n",
       "    </tr>\n",
       "    <tr>\n",
       "      <th>Finland</th>\n",
       "      <td>0.001731</td>\n",
       "    </tr>\n",
       "    <tr>\n",
       "      <th>Cyprus</th>\n",
       "      <td>0.001521</td>\n",
       "    </tr>\n",
       "    <tr>\n",
       "      <th>Sweden</th>\n",
       "      <td>0.001148</td>\n",
       "    </tr>\n",
       "    <tr>\n",
       "      <th>Austria</th>\n",
       "      <td>0.000998</td>\n",
       "    </tr>\n",
       "    <tr>\n",
       "      <th>Denmark</th>\n",
       "      <td>0.000969</td>\n",
       "    </tr>\n",
       "    <tr>\n",
       "      <th>Japan</th>\n",
       "      <td>0.000891</td>\n",
       "    </tr>\n",
       "    <tr>\n",
       "      <th>Poland</th>\n",
       "      <td>0.000849</td>\n",
       "    </tr>\n",
       "    <tr>\n",
       "      <th>USA</th>\n",
       "      <td>0.000725</td>\n",
       "    </tr>\n",
       "    <tr>\n",
       "      <th>Israel</th>\n",
       "      <td>0.000615</td>\n",
       "    </tr>\n",
       "    <tr>\n",
       "      <th>Unspecified</th>\n",
       "      <td>0.000600</td>\n",
       "    </tr>\n",
       "    <tr>\n",
       "      <th>Singapore</th>\n",
       "      <td>0.000570</td>\n",
       "    </tr>\n",
       "    <tr>\n",
       "      <th>Iceland</th>\n",
       "      <td>0.000453</td>\n",
       "    </tr>\n",
       "    <tr>\n",
       "      <th>Canada</th>\n",
       "      <td>0.000376</td>\n",
       "    </tr>\n",
       "    <tr>\n",
       "      <th>Greece</th>\n",
       "      <td>0.000364</td>\n",
       "    </tr>\n",
       "    <tr>\n",
       "      <th>Malta</th>\n",
       "      <td>0.000316</td>\n",
       "    </tr>\n",
       "    <tr>\n",
       "      <th>United Arab Emirates</th>\n",
       "      <td>0.000169</td>\n",
       "    </tr>\n",
       "    <tr>\n",
       "      <th>European Community</th>\n",
       "      <td>0.000152</td>\n",
       "    </tr>\n",
       "    <tr>\n",
       "      <th>RSA</th>\n",
       "      <td>0.000144</td>\n",
       "    </tr>\n",
       "    <tr>\n",
       "      <th>Lebanon</th>\n",
       "      <td>0.000112</td>\n",
       "    </tr>\n",
       "    <tr>\n",
       "      <th>Lithuania</th>\n",
       "      <td>0.000087</td>\n",
       "    </tr>\n",
       "    <tr>\n",
       "      <th>Brazil</th>\n",
       "      <td>0.000080</td>\n",
       "    </tr>\n",
       "    <tr>\n",
       "      <th>Czech Republic</th>\n",
       "      <td>0.000075</td>\n",
       "    </tr>\n",
       "    <tr>\n",
       "      <th>Bahrain</th>\n",
       "      <td>0.000042</td>\n",
       "    </tr>\n",
       "    <tr>\n",
       "      <th>Saudi Arabia</th>\n",
       "      <td>0.000025</td>\n",
       "    </tr>\n",
       "  </tbody>\n",
       "</table>\n",
       "</div>"
      ],
      "text/plain": [
       "                      Proportion_of_orders\n",
       "United Kingdom                    0.888258\n",
       "Germany                           0.023605\n",
       "France                            0.021103\n",
       "EIRE                              0.018613\n",
       "Spain                             0.006295\n",
       "Netherlands                       0.005904\n",
       "Belgium                           0.005152\n",
       "Switzerland                       0.004674\n",
       "Portugal                          0.003663\n",
       "Australia                         0.003132\n",
       "Norway                            0.002704\n",
       "Italy                             0.001999\n",
       "Channel Islands                   0.001885\n",
       "Finland                           0.001731\n",
       "Cyprus                            0.001521\n",
       "Sweden                            0.001148\n",
       "Austria                           0.000998\n",
       "Denmark                           0.000969\n",
       "Japan                             0.000891\n",
       "Poland                            0.000849\n",
       "USA                               0.000725\n",
       "Israel                            0.000615\n",
       "Unspecified                       0.000600\n",
       "Singapore                         0.000570\n",
       "Iceland                           0.000453\n",
       "Canada                            0.000376\n",
       "Greece                            0.000364\n",
       "Malta                             0.000316\n",
       "United Arab Emirates              0.000169\n",
       "European Community                0.000152\n",
       "RSA                               0.000144\n",
       "Lebanon                           0.000112\n",
       "Lithuania                         0.000087\n",
       "Brazil                            0.000080\n",
       "Czech Republic                    0.000075\n",
       "Bahrain                           0.000042\n",
       "Saudi Arabia                      0.000025"
      ]
     },
     "execution_count": 32,
     "metadata": {},
     "output_type": "execute_result"
    }
   ],
   "source": [
    "## Checking Country-wise Orders\n",
    "pd.DataFrame({'Proportion_of_orders':df['Country'].value_counts(normalize = True)})"
   ]
  },
  {
   "cell_type": "code",
   "execution_count": 33,
   "metadata": {},
   "outputs": [
    {
     "data": {
      "image/png": "[encoded data removed]",
      "text/plain": [
       "<Figure size 1440x576 with 1 Axes>"
      ]
     },
     "metadata": {
      "needs_background": "light"
     },
     "output_type": "display_data"
    }
   ],
   "source": [
    "aa = df.groupby('Country').count().sort_values('CustomerID',ascending=False)['CustomerID']\n",
    "ax = aa.plot(kind='bar', \n",
    "            figsize=(20, 8), \n",
    "            width=0.8, \n",
    "            cmap='Blues_r',\n",
    "           )\n",
    "ax.spines['left'].set_visible(False)\n",
    "ax.spines['top'].set_visible(False)\n",
    "ax.spines['right'].set_visible(False)\n",
    "ax.axes.get_yaxis().set_visible(False)\n",
    "ax.tick_params(labelsize=14)\n",
    "ax.legend(fontsize=14)\n",
    "ax.set_title(\"Total Products Sold-Countrywise\", fontsize=16)\n",
    "for p in ax.patches:\n",
    "    ax.annotate(np.round(p.get_height()), \n",
    "                (p.get_x()+p.get_width()/2., p.get_height()), \n",
    "                ha='center', \n",
    "                va='center', \n",
    "                xytext=(0, 10), \n",
    "                textcoords='offset points',\n",
    "                fontsize = 9\n",
    "               )"
   ]
  },
  {
   "cell_type": "markdown",
   "metadata": {},
   "source": [
    "__88.95% of Total products sold are from United Kingdom. \n",
    "We will focus our analysis for UK orders, as customer cluster may vary geographically__"
   ]
  },
  {
   "cell_type": "code",
   "execution_count": 34,
   "metadata": {},
   "outputs": [],
   "source": [
    "df = df[df['Country']=='United Kingdom']"
   ]
  },
  {
   "cell_type": "code",
   "execution_count": 35,
   "metadata": {},
   "outputs": [
    {
     "data": {
      "text/html": [
       "<div>\n",
       "<style scoped>\n",
       "    .dataframe tbody tr th:only-of-type {\n",
       "        vertical-align: middle;\n",
       "    }\n",
       "\n",
       "    .dataframe tbody tr th {\n",
       "        vertical-align: top;\n",
       "    }\n",
       "\n",
       "    .dataframe thead th {\n",
       "        text-align: right;\n",
       "    }\n",
       "</style>\n",
       "<table border=\"1\" class=\"dataframe\">\n",
       "  <thead>\n",
       "    <tr style=\"text-align: right;\">\n",
       "      <th></th>\n",
       "      <th>Quantity</th>\n",
       "      <th>UnitPrice</th>\n",
       "    </tr>\n",
       "  </thead>\n",
       "  <tbody>\n",
       "    <tr>\n",
       "      <th>count</th>\n",
       "      <td>356728.000000</td>\n",
       "      <td>356728.000000</td>\n",
       "    </tr>\n",
       "    <tr>\n",
       "      <th>mean</th>\n",
       "      <td>11.198644</td>\n",
       "      <td>3.268255</td>\n",
       "    </tr>\n",
       "    <tr>\n",
       "      <th>std</th>\n",
       "      <td>264.998044</td>\n",
       "      <td>71.162330</td>\n",
       "    </tr>\n",
       "    <tr>\n",
       "      <th>min</th>\n",
       "      <td>-80995.000000</td>\n",
       "      <td>0.000000</td>\n",
       "    </tr>\n",
       "    <tr>\n",
       "      <th>25%</th>\n",
       "      <td>2.000000</td>\n",
       "      <td>1.250000</td>\n",
       "    </tr>\n",
       "    <tr>\n",
       "      <th>50%</th>\n",
       "      <td>4.000000</td>\n",
       "      <td>1.950000</td>\n",
       "    </tr>\n",
       "    <tr>\n",
       "      <th>75%</th>\n",
       "      <td>12.000000</td>\n",
       "      <td>3.750000</td>\n",
       "    </tr>\n",
       "    <tr>\n",
       "      <th>max</th>\n",
       "      <td>80995.000000</td>\n",
       "      <td>38970.000000</td>\n",
       "    </tr>\n",
       "  </tbody>\n",
       "</table>\n",
       "</div>"
      ],
      "text/plain": [
       "            Quantity      UnitPrice\n",
       "count  356728.000000  356728.000000\n",
       "mean       11.198644       3.268255\n",
       "std       264.998044      71.162330\n",
       "min    -80995.000000       0.000000\n",
       "25%         2.000000       1.250000\n",
       "50%         4.000000       1.950000\n",
       "75%        12.000000       3.750000\n",
       "max     80995.000000   38970.000000"
      ]
     },
     "execution_count": 35,
     "metadata": {},
     "output_type": "execute_result"
    }
   ],
   "source": [
    "df.describe()"
   ]
  },
  {
   "cell_type": "markdown",
   "metadata": {},
   "source": [
    "__The Quantity column has negative values.lets check__"
   ]
  },
  {
   "cell_type": "code",
   "execution_count": 36,
   "metadata": {},
   "outputs": [
    {
     "data": {
      "text/plain": [
       "3208"
      ]
     },
     "execution_count": 36,
     "metadata": {},
     "output_type": "execute_result"
    }
   ],
   "source": [
    "df[df['Quantity']<0]['InvoiceNo'].nunique()"
   ]
  },
  {
   "cell_type": "markdown",
   "metadata": {},
   "source": [
    "__Total 3208 invoices  has negative quantity for products. looks like these products has been returned.<br>\n",
    "If they are returned means they must be bought before that.\n",
    "lets look into this__"
   ]
  },
  {
   "cell_type": "markdown",
   "metadata": {},
   "source": [
    "### 2.1 Removing doubtful entries"
   ]
  },
  {
   "cell_type": "code",
   "execution_count": 37,
   "metadata": {},
   "outputs": [],
   "source": [
    "df_cleaned = df.copy(deep = True)\n",
    "df_cleaned['QuantityCanceled'] = 0"
   ]
  },
  {
   "cell_type": "code",
   "execution_count": 38,
   "metadata": {},
   "outputs": [],
   "source": [
    "entry_to_remove = []        # Returned Product which where bought in the same timeframe\n",
    "doubtfull_entry = []"
   ]
  },
  {
   "cell_type": "code",
   "execution_count": 39,
   "metadata": {
    "scrolled": true
   },
   "outputs": [],
   "source": [
    "for index,col in df.iterrows():\n",
    "    if col['Quantity']>0:      #It goes to next row if quantity is greater than zero\n",
    "        continue\n",
    "        \n",
    "    df_test = df[(df['CustomerID']==col['CustomerID']) &\n",
    "                (df['StockCode']==col['StockCode']) &\n",
    "                (df['InvoiceDate'] < col['InvoiceDate'])&\n",
    "                (df['Quantity']>0)].copy()\n",
    "    \n",
    "    #-------------\n",
    "    # Cancelletion without previous purchase record\n",
    "    if(df_test.shape[0]==0):\n",
    "        doubtfull_entry.append(index)\n",
    "    \n",
    "    #-------------\n",
    "    # Cancellation with Previous single purchase record\n",
    "    elif(df_test.shape[0]==1):\n",
    "        entry_to_remove.append(index)\n",
    "        index_order = df_test.index[0]\n",
    "        \n",
    "        df_cleaned.loc[index_order,'QuantityCanceled'] = -1*col['Quantity']\n",
    "        \n",
    "    #-------------\n",
    "    \n",
    "    # Various previous purchase record,we delete the last one\n",
    "    elif (df_test.shape[0] > 1): \n",
    "        df_test.sort_index(axis=0 ,ascending=False, inplace = True)        \n",
    "        for ind, val in df_test.iterrows():\n",
    "            if val['Quantity'] < -col['Quantity']: continue\n",
    "            df_cleaned.loc[ind, 'QuantityCanceled'] = -col['Quantity']\n",
    "            entry_to_remove.append(index) \n",
    "            break            "
   ]
  },
  {
   "cell_type": "code",
   "execution_count": 40,
   "metadata": {},
   "outputs": [],
   "source": [
    "df_cleaned.drop(entry_to_remove, axis = 0, inplace = True)\n",
    "df_cleaned.drop(doubtfull_entry, axis = 0, inplace = True)"
   ]
  },
  {
   "cell_type": "code",
   "execution_count": 41,
   "metadata": {},
   "outputs": [],
   "source": [
    "## Removing those entries where returned quantity is greater than quantity bought\n",
    "df_cleaned = df_cleaned[df_cleaned['QuantityCanceled']<df_cleaned['Quantity']]"
   ]
  },
  {
   "cell_type": "code",
   "execution_count": 42,
   "metadata": {},
   "outputs": [],
   "source": [
    "## now adjusting Quantity and order for those who returned less item than they bought"
   ]
  },
  {
   "cell_type": "code",
   "execution_count": 43,
   "metadata": {},
   "outputs": [],
   "source": [
    "df_cleaned['Total_cost'] = (df_cleaned['Quantity']-df_cleaned['QuantityCanceled'])*df_cleaned['UnitPrice']\n",
    "df_cleaned['Quantity']  = df_cleaned['Quantity'] - df_cleaned['QuantityCanceled']"
   ]
  },
  {
   "cell_type": "markdown",
   "metadata": {},
   "source": [
    "### 2.2 Final Data"
   ]
  },
  {
   "cell_type": "code",
   "execution_count": 44,
   "metadata": {},
   "outputs": [
    {
     "data": {
      "text/html": [
       "<div>\n",
       "<style scoped>\n",
       "    .dataframe tbody tr th:only-of-type {\n",
       "        vertical-align: middle;\n",
       "    }\n",
       "\n",
       "    .dataframe tbody tr th {\n",
       "        vertical-align: top;\n",
       "    }\n",
       "\n",
       "    .dataframe thead th {\n",
       "        text-align: right;\n",
       "    }\n",
       "</style>\n",
       "<table border=\"1\" class=\"dataframe\">\n",
       "  <thead>\n",
       "    <tr style=\"text-align: right;\">\n",
       "      <th></th>\n",
       "      <th>InvoiceNo</th>\n",
       "      <th>StockCode</th>\n",
       "      <th>Description</th>\n",
       "      <th>Quantity</th>\n",
       "      <th>InvoiceDate</th>\n",
       "      <th>UnitPrice</th>\n",
       "      <th>CustomerID</th>\n",
       "      <th>Country</th>\n",
       "      <th>QuantityCanceled</th>\n",
       "      <th>Total_cost</th>\n",
       "    </tr>\n",
       "  </thead>\n",
       "  <tbody>\n",
       "    <tr>\n",
       "      <th>0</th>\n",
       "      <td>536365</td>\n",
       "      <td>85123A</td>\n",
       "      <td>WHITE HANGING HEART T-LIGHT HOLDER</td>\n",
       "      <td>6</td>\n",
       "      <td>2010-12-01</td>\n",
       "      <td>2.55</td>\n",
       "      <td>17850</td>\n",
       "      <td>United Kingdom</td>\n",
       "      <td>0</td>\n",
       "      <td>15.30</td>\n",
       "    </tr>\n",
       "    <tr>\n",
       "      <th>1</th>\n",
       "      <td>536365</td>\n",
       "      <td>71053</td>\n",
       "      <td>WHITE METAL LANTERN</td>\n",
       "      <td>6</td>\n",
       "      <td>2010-12-01</td>\n",
       "      <td>3.39</td>\n",
       "      <td>17850</td>\n",
       "      <td>United Kingdom</td>\n",
       "      <td>0</td>\n",
       "      <td>20.34</td>\n",
       "    </tr>\n",
       "    <tr>\n",
       "      <th>2</th>\n",
       "      <td>536365</td>\n",
       "      <td>84406B</td>\n",
       "      <td>CREAM CUPID HEARTS COAT HANGER</td>\n",
       "      <td>8</td>\n",
       "      <td>2010-12-01</td>\n",
       "      <td>2.75</td>\n",
       "      <td>17850</td>\n",
       "      <td>United Kingdom</td>\n",
       "      <td>0</td>\n",
       "      <td>22.00</td>\n",
       "    </tr>\n",
       "    <tr>\n",
       "      <th>3</th>\n",
       "      <td>536365</td>\n",
       "      <td>84029G</td>\n",
       "      <td>KNITTED UNION FLAG HOT WATER BOTTLE</td>\n",
       "      <td>6</td>\n",
       "      <td>2010-12-01</td>\n",
       "      <td>3.39</td>\n",
       "      <td>17850</td>\n",
       "      <td>United Kingdom</td>\n",
       "      <td>0</td>\n",
       "      <td>20.34</td>\n",
       "    </tr>\n",
       "    <tr>\n",
       "      <th>4</th>\n",
       "      <td>536365</td>\n",
       "      <td>84029E</td>\n",
       "      <td>RED WOOLLY HOTTIE WHITE HEART.</td>\n",
       "      <td>6</td>\n",
       "      <td>2010-12-01</td>\n",
       "      <td>3.39</td>\n",
       "      <td>17850</td>\n",
       "      <td>United Kingdom</td>\n",
       "      <td>0</td>\n",
       "      <td>20.34</td>\n",
       "    </tr>\n",
       "  </tbody>\n",
       "</table>\n",
       "</div>"
      ],
      "text/plain": [
       "  InvoiceNo StockCode                          Description  Quantity  \\\n",
       "0    536365    85123A   WHITE HANGING HEART T-LIGHT HOLDER         6   \n",
       "1    536365     71053                  WHITE METAL LANTERN         6   \n",
       "2    536365    84406B       CREAM CUPID HEARTS COAT HANGER         8   \n",
       "3    536365    84029G  KNITTED UNION FLAG HOT WATER BOTTLE         6   \n",
       "4    536365    84029E       RED WOOLLY HOTTIE WHITE HEART.         6   \n",
       "\n",
       "  InvoiceDate  UnitPrice CustomerID         Country  QuantityCanceled  \\\n",
       "0  2010-12-01       2.55      17850  United Kingdom                 0   \n",
       "1  2010-12-01       3.39      17850  United Kingdom                 0   \n",
       "2  2010-12-01       2.75      17850  United Kingdom                 0   \n",
       "3  2010-12-01       3.39      17850  United Kingdom                 0   \n",
       "4  2010-12-01       3.39      17850  United Kingdom                 0   \n",
       "\n",
       "   Total_cost  \n",
       "0       15.30  \n",
       "1       20.34  \n",
       "2       22.00  \n",
       "3       20.34  \n",
       "4       20.34  "
      ]
     },
     "execution_count": 44,
     "metadata": {},
     "output_type": "execute_result"
    }
   ],
   "source": [
    "df_cleaned.head()"
   ]
  },
  {
   "cell_type": "code",
   "execution_count": 45,
   "metadata": {},
   "outputs": [],
   "source": [
    "df_cleaned.drop('QuantityCanceled',axis=1,inplace=True)"
   ]
  },
  {
   "cell_type": "code",
   "execution_count": 46,
   "metadata": {},
   "outputs": [],
   "source": [
    "df = df_cleaned.copy()"
   ]
  },
  {
   "cell_type": "code",
   "execution_count": 47,
   "metadata": {},
   "outputs": [
    {
     "name": "stdout",
     "output_type": "stream",
     "text": [
      "Important Summary\n",
      "Number of Transactions:  16585\n",
      "Number of Product Solds: 3641\n",
      "Number of Customers:     3915\n",
      "Earliest Transaction:    2010-12-01\n",
      "Latest Transaction:      2011-12-09\n"
     ]
    }
   ],
   "source": [
    "print('Important Summary')\n",
    "print('Number of Transactions:  {}'.format(df['InvoiceNo'].nunique()))\n",
    "print('Number of Product Solds: {}'.format(df['StockCode'].nunique()))\n",
    "print('Number of Customers:     {}'.format(df['CustomerID'].nunique()))\n",
    "print('Earliest Transaction:    {}'.format(min(df['InvoiceDate'])))\n",
    "print('Latest Transaction:      {}'.format(max(df['InvoiceDate'])))"
   ]
  },
  {
   "cell_type": "code",
   "execution_count": 48,
   "metadata": {},
   "outputs": [],
   "source": [
    "# The Duration is little over a year, which is ideal for metric"
   ]
  },
  {
   "cell_type": "markdown",
   "metadata": {},
   "source": [
    "## 3. RFM Analysis"
   ]
  },
  {
   "cell_type": "markdown",
   "metadata": {},
   "source": [
    "RFM (Recency, Frequency, Monetary) analysis is a customer segmentation technique that uses past purchase behavior to divide customers into groups. RFM helps divide customers into various categories or clusters to identify customers who are more likely to respond to promotions and also for future personalization services.\n",
    "\n",
    "__RECENCY (R)__: Days since last purchase<br>\n",
    "__FREQUENCY (F)__: Total number of purchases<br>\n",
    "__MONETARY VALUE (M)__: Total money perticular customer spent.<br>"
   ]
  },
  {
   "cell_type": "markdown",
   "metadata": {},
   "source": [
    "### 3.1 Recency"
   ]
  },
  {
   "cell_type": "markdown",
   "metadata": {},
   "source": [
    "Recency is how many days ago customer did his last purchase at store<br>\n",
    "Recency Analysis needs a date for reference. For that we will use the latest transaction date"
   ]
  },
  {
   "cell_type": "code",
   "execution_count": 49,
   "metadata": {},
   "outputs": [
    {
     "name": "stdout",
     "output_type": "stream",
     "text": [
      "2011-12-09\n"
     ]
    }
   ],
   "source": [
    "latest = max(df['InvoiceDate'])\n",
    "print(latest)"
   ]
  },
  {
   "cell_type": "code",
   "execution_count": 50,
   "metadata": {},
   "outputs": [
    {
     "data": {
      "text/html": [
       "<div>\n",
       "<style scoped>\n",
       "    .dataframe tbody tr th:only-of-type {\n",
       "        vertical-align: middle;\n",
       "    }\n",
       "\n",
       "    .dataframe tbody tr th {\n",
       "        vertical-align: top;\n",
       "    }\n",
       "\n",
       "    .dataframe thead th {\n",
       "        text-align: right;\n",
       "    }\n",
       "</style>\n",
       "<table border=\"1\" class=\"dataframe\">\n",
       "  <thead>\n",
       "    <tr style=\"text-align: right;\">\n",
       "      <th></th>\n",
       "      <th>InvoiceNo</th>\n",
       "      <th>StockCode</th>\n",
       "      <th>Description</th>\n",
       "      <th>Quantity</th>\n",
       "      <th>InvoiceDate</th>\n",
       "      <th>UnitPrice</th>\n",
       "      <th>CustomerID</th>\n",
       "      <th>Country</th>\n",
       "      <th>Total_cost</th>\n",
       "    </tr>\n",
       "  </thead>\n",
       "  <tbody>\n",
       "    <tr>\n",
       "      <th>0</th>\n",
       "      <td>536365</td>\n",
       "      <td>85123A</td>\n",
       "      <td>WHITE HANGING HEART T-LIGHT HOLDER</td>\n",
       "      <td>6</td>\n",
       "      <td>2010-12-01</td>\n",
       "      <td>2.55</td>\n",
       "      <td>17850</td>\n",
       "      <td>United Kingdom</td>\n",
       "      <td>15.30</td>\n",
       "    </tr>\n",
       "    <tr>\n",
       "      <th>1</th>\n",
       "      <td>536365</td>\n",
       "      <td>71053</td>\n",
       "      <td>WHITE METAL LANTERN</td>\n",
       "      <td>6</td>\n",
       "      <td>2010-12-01</td>\n",
       "      <td>3.39</td>\n",
       "      <td>17850</td>\n",
       "      <td>United Kingdom</td>\n",
       "      <td>20.34</td>\n",
       "    </tr>\n",
       "    <tr>\n",
       "      <th>2</th>\n",
       "      <td>536365</td>\n",
       "      <td>84406B</td>\n",
       "      <td>CREAM CUPID HEARTS COAT HANGER</td>\n",
       "      <td>8</td>\n",
       "      <td>2010-12-01</td>\n",
       "      <td>2.75</td>\n",
       "      <td>17850</td>\n",
       "      <td>United Kingdom</td>\n",
       "      <td>22.00</td>\n",
       "    </tr>\n",
       "    <tr>\n",
       "      <th>3</th>\n",
       "      <td>536365</td>\n",
       "      <td>84029G</td>\n",
       "      <td>KNITTED UNION FLAG HOT WATER BOTTLE</td>\n",
       "      <td>6</td>\n",
       "      <td>2010-12-01</td>\n",
       "      <td>3.39</td>\n",
       "      <td>17850</td>\n",
       "      <td>United Kingdom</td>\n",
       "      <td>20.34</td>\n",
       "    </tr>\n",
       "    <tr>\n",
       "      <th>4</th>\n",
       "      <td>536365</td>\n",
       "      <td>84029E</td>\n",
       "      <td>RED WOOLLY HOTTIE WHITE HEART.</td>\n",
       "      <td>6</td>\n",
       "      <td>2010-12-01</td>\n",
       "      <td>3.39</td>\n",
       "      <td>17850</td>\n",
       "      <td>United Kingdom</td>\n",
       "      <td>20.34</td>\n",
       "    </tr>\n",
       "  </tbody>\n",
       "</table>\n",
       "</div>"
      ],
      "text/plain": [
       "  InvoiceNo StockCode                          Description  Quantity  \\\n",
       "0    536365    85123A   WHITE HANGING HEART T-LIGHT HOLDER         6   \n",
       "1    536365     71053                  WHITE METAL LANTERN         6   \n",
       "2    536365    84406B       CREAM CUPID HEARTS COAT HANGER         8   \n",
       "3    536365    84029G  KNITTED UNION FLAG HOT WATER BOTTLE         6   \n",
       "4    536365    84029E       RED WOOLLY HOTTIE WHITE HEART.         6   \n",
       "\n",
       "  InvoiceDate  UnitPrice CustomerID         Country  Total_cost  \n",
       "0  2010-12-01       2.55      17850  United Kingdom       15.30  \n",
       "1  2010-12-01       3.39      17850  United Kingdom       20.34  \n",
       "2  2010-12-01       2.75      17850  United Kingdom       22.00  \n",
       "3  2010-12-01       3.39      17850  United Kingdom       20.34  \n",
       "4  2010-12-01       3.39      17850  United Kingdom       20.34  "
      ]
     },
     "execution_count": 50,
     "metadata": {},
     "output_type": "execute_result"
    }
   ],
   "source": [
    "# find Latest Transaction date for each customer\n",
    "df.head()"
   ]
  },
  {
   "cell_type": "code",
   "execution_count": 51,
   "metadata": {},
   "outputs": [
    {
     "data": {
      "text/html": [
       "<div>\n",
       "<style scoped>\n",
       "    .dataframe tbody tr th:only-of-type {\n",
       "        vertical-align: middle;\n",
       "    }\n",
       "\n",
       "    .dataframe tbody tr th {\n",
       "        vertical-align: top;\n",
       "    }\n",
       "\n",
       "    .dataframe thead th {\n",
       "        text-align: right;\n",
       "    }\n",
       "</style>\n",
       "<table border=\"1\" class=\"dataframe\">\n",
       "  <thead>\n",
       "    <tr style=\"text-align: right;\">\n",
       "      <th></th>\n",
       "      <th>CustomerID</th>\n",
       "      <th>Latest_Transaction_date</th>\n",
       "    </tr>\n",
       "  </thead>\n",
       "  <tbody>\n",
       "    <tr>\n",
       "      <th>0</th>\n",
       "      <td>12346</td>\n",
       "      <td>2011-01-18</td>\n",
       "    </tr>\n",
       "    <tr>\n",
       "      <th>1</th>\n",
       "      <td>12747</td>\n",
       "      <td>2011-12-07</td>\n",
       "    </tr>\n",
       "    <tr>\n",
       "      <th>2</th>\n",
       "      <td>12748</td>\n",
       "      <td>2011-12-09</td>\n",
       "    </tr>\n",
       "    <tr>\n",
       "      <th>3</th>\n",
       "      <td>12749</td>\n",
       "      <td>2011-12-06</td>\n",
       "    </tr>\n",
       "    <tr>\n",
       "      <th>4</th>\n",
       "      <td>12820</td>\n",
       "      <td>2011-12-06</td>\n",
       "    </tr>\n",
       "  </tbody>\n",
       "</table>\n",
       "</div>"
      ],
      "text/plain": [
       "  CustomerID Latest_Transaction_date\n",
       "0      12346              2011-01-18\n",
       "1      12747              2011-12-07\n",
       "2      12748              2011-12-09\n",
       "3      12749              2011-12-06\n",
       "4      12820              2011-12-06"
      ]
     },
     "execution_count": 51,
     "metadata": {},
     "output_type": "execute_result"
    }
   ],
   "source": [
    "recency_df = pd.DataFrame({'Latest_Transaction_date':df.groupby('CustomerID').max()['InvoiceDate']}).reset_index()\n",
    "recency_df.head()"
   ]
  },
  {
   "cell_type": "markdown",
   "metadata": {},
   "source": [
    "#### Calculating Recency"
   ]
  },
  {
   "cell_type": "code",
   "execution_count": 52,
   "metadata": {},
   "outputs": [
    {
     "data": {
      "text/html": [
       "<div>\n",
       "<style scoped>\n",
       "    .dataframe tbody tr th:only-of-type {\n",
       "        vertical-align: middle;\n",
       "    }\n",
       "\n",
       "    .dataframe tbody tr th {\n",
       "        vertical-align: top;\n",
       "    }\n",
       "\n",
       "    .dataframe thead th {\n",
       "        text-align: right;\n",
       "    }\n",
       "</style>\n",
       "<table border=\"1\" class=\"dataframe\">\n",
       "  <thead>\n",
       "    <tr style=\"text-align: right;\">\n",
       "      <th></th>\n",
       "      <th>CustomerID</th>\n",
       "      <th>Recency</th>\n",
       "    </tr>\n",
       "  </thead>\n",
       "  <tbody>\n",
       "    <tr>\n",
       "      <th>0</th>\n",
       "      <td>12346</td>\n",
       "      <td>325</td>\n",
       "    </tr>\n",
       "    <tr>\n",
       "      <th>1</th>\n",
       "      <td>12747</td>\n",
       "      <td>2</td>\n",
       "    </tr>\n",
       "    <tr>\n",
       "      <th>2</th>\n",
       "      <td>12748</td>\n",
       "      <td>0</td>\n",
       "    </tr>\n",
       "    <tr>\n",
       "      <th>3</th>\n",
       "      <td>12749</td>\n",
       "      <td>3</td>\n",
       "    </tr>\n",
       "    <tr>\n",
       "      <th>4</th>\n",
       "      <td>12820</td>\n",
       "      <td>3</td>\n",
       "    </tr>\n",
       "  </tbody>\n",
       "</table>\n",
       "</div>"
      ],
      "text/plain": [
       "  CustomerID  Recency\n",
       "0      12346      325\n",
       "1      12747        2\n",
       "2      12748        0\n",
       "3      12749        3\n",
       "4      12820        3"
      ]
     },
     "execution_count": 52,
     "metadata": {},
     "output_type": "execute_result"
    }
   ],
   "source": [
    "recency_df['Recency'] = recency_df['Latest_Transaction_date'].apply(lambda x:(latest-x).days)\n",
    "recency_df.drop('Latest_Transaction_date',axis=1,inplace=True)\n",
    "recency_df.head()"
   ]
  },
  {
   "cell_type": "markdown",
   "metadata": {},
   "source": [
    "### 3.2  Frequency"
   ]
  },
  {
   "cell_type": "markdown",
   "metadata": {},
   "source": [
    "frequency is total number of times a customer has shopped at store in given duration"
   ]
  },
  {
   "cell_type": "code",
   "execution_count": 53,
   "metadata": {},
   "outputs": [],
   "source": [
    "frequency_df = pd.DataFrame({'Frequency':df.groupby('CustomerID').nunique()['InvoiceNo']}).reset_index()"
   ]
  },
  {
   "cell_type": "code",
   "execution_count": 54,
   "metadata": {},
   "outputs": [
    {
     "data": {
      "text/html": [
       "<div>\n",
       "<style scoped>\n",
       "    .dataframe tbody tr th:only-of-type {\n",
       "        vertical-align: middle;\n",
       "    }\n",
       "\n",
       "    .dataframe tbody tr th {\n",
       "        vertical-align: top;\n",
       "    }\n",
       "\n",
       "    .dataframe thead th {\n",
       "        text-align: right;\n",
       "    }\n",
       "</style>\n",
       "<table border=\"1\" class=\"dataframe\">\n",
       "  <thead>\n",
       "    <tr style=\"text-align: right;\">\n",
       "      <th></th>\n",
       "      <th>CustomerID</th>\n",
       "      <th>Frequency</th>\n",
       "    </tr>\n",
       "  </thead>\n",
       "  <tbody>\n",
       "    <tr>\n",
       "      <th>0</th>\n",
       "      <td>12346</td>\n",
       "      <td>1</td>\n",
       "    </tr>\n",
       "    <tr>\n",
       "      <th>1</th>\n",
       "      <td>12747</td>\n",
       "      <td>11</td>\n",
       "    </tr>\n",
       "    <tr>\n",
       "      <th>2</th>\n",
       "      <td>12748</td>\n",
       "      <td>209</td>\n",
       "    </tr>\n",
       "    <tr>\n",
       "      <th>3</th>\n",
       "      <td>12749</td>\n",
       "      <td>5</td>\n",
       "    </tr>\n",
       "    <tr>\n",
       "      <th>4</th>\n",
       "      <td>12820</td>\n",
       "      <td>4</td>\n",
       "    </tr>\n",
       "  </tbody>\n",
       "</table>\n",
       "</div>"
      ],
      "text/plain": [
       "  CustomerID  Frequency\n",
       "0      12346          1\n",
       "1      12747         11\n",
       "2      12748        209\n",
       "3      12749          5\n",
       "4      12820          4"
      ]
     },
     "execution_count": 54,
     "metadata": {},
     "output_type": "execute_result"
    }
   ],
   "source": [
    "frequency_df.head()"
   ]
  },
  {
   "cell_type": "markdown",
   "metadata": {},
   "source": [
    "### 3.3 Monetary"
   ]
  },
  {
   "cell_type": "markdown",
   "metadata": {},
   "source": [
    "Monetary is total amount of money customer spent in given duration"
   ]
  },
  {
   "cell_type": "code",
   "execution_count": 55,
   "metadata": {},
   "outputs": [],
   "source": [
    "df['Total_cost'] = df['Quantity'] * df['UnitPrice']"
   ]
  },
  {
   "cell_type": "code",
   "execution_count": 56,
   "metadata": {},
   "outputs": [
    {
     "data": {
      "text/html": [
       "<div>\n",
       "<style scoped>\n",
       "    .dataframe tbody tr th:only-of-type {\n",
       "        vertical-align: middle;\n",
       "    }\n",
       "\n",
       "    .dataframe tbody tr th {\n",
       "        vertical-align: top;\n",
       "    }\n",
       "\n",
       "    .dataframe thead th {\n",
       "        text-align: right;\n",
       "    }\n",
       "</style>\n",
       "<table border=\"1\" class=\"dataframe\">\n",
       "  <thead>\n",
       "    <tr style=\"text-align: right;\">\n",
       "      <th></th>\n",
       "      <th>CustomerID</th>\n",
       "      <th>Monetary</th>\n",
       "    </tr>\n",
       "  </thead>\n",
       "  <tbody>\n",
       "    <tr>\n",
       "      <th>0</th>\n",
       "      <td>12346</td>\n",
       "      <td>77183.60</td>\n",
       "    </tr>\n",
       "    <tr>\n",
       "      <th>1</th>\n",
       "      <td>12747</td>\n",
       "      <td>4196.01</td>\n",
       "    </tr>\n",
       "    <tr>\n",
       "      <th>2</th>\n",
       "      <td>12748</td>\n",
       "      <td>32124.97</td>\n",
       "    </tr>\n",
       "    <tr>\n",
       "      <th>3</th>\n",
       "      <td>12749</td>\n",
       "      <td>3868.20</td>\n",
       "    </tr>\n",
       "    <tr>\n",
       "      <th>4</th>\n",
       "      <td>12820</td>\n",
       "      <td>942.34</td>\n",
       "    </tr>\n",
       "  </tbody>\n",
       "</table>\n",
       "</div>"
      ],
      "text/plain": [
       "  CustomerID  Monetary\n",
       "0      12346  77183.60\n",
       "1      12747   4196.01\n",
       "2      12748  32124.97\n",
       "3      12749   3868.20\n",
       "4      12820    942.34"
      ]
     },
     "execution_count": 56,
     "metadata": {},
     "output_type": "execute_result"
    }
   ],
   "source": [
    "monetary_df = pd.DataFrame({'Monetary':df.groupby('CustomerID').sum()['Total_cost']}).reset_index()\n",
    "monetary_df.head()"
   ]
  },
  {
   "cell_type": "markdown",
   "metadata": {},
   "source": [
    "### 3.4 Creating RFM Table"
   ]
  },
  {
   "cell_type": "code",
   "execution_count": 57,
   "metadata": {},
   "outputs": [
    {
     "data": {
      "text/plain": [
       "((3915, 2), (3915, 2), (3915, 2))"
      ]
     },
     "execution_count": 57,
     "metadata": {},
     "output_type": "execute_result"
    }
   ],
   "source": [
    "recency_df.shape,frequency_df.shape,monetary_df.shape"
   ]
  },
  {
   "cell_type": "code",
   "execution_count": 58,
   "metadata": {},
   "outputs": [],
   "source": [
    "RFM_df = recency_df.merge(frequency_df)"
   ]
  },
  {
   "cell_type": "code",
   "execution_count": 59,
   "metadata": {},
   "outputs": [],
   "source": [
    "RFM_df = RFM_df.merge(monetary_df)"
   ]
  },
  {
   "cell_type": "code",
   "execution_count": 60,
   "metadata": {},
   "outputs": [
    {
     "data": {
      "text/plain": [
       "(3915, 4)"
      ]
     },
     "execution_count": 60,
     "metadata": {},
     "output_type": "execute_result"
    }
   ],
   "source": [
    "RFM_df.shape"
   ]
  },
  {
   "cell_type": "code",
   "execution_count": 61,
   "metadata": {},
   "outputs": [
    {
     "data": {
      "text/html": [
       "<div>\n",
       "<style scoped>\n",
       "    .dataframe tbody tr th:only-of-type {\n",
       "        vertical-align: middle;\n",
       "    }\n",
       "\n",
       "    .dataframe tbody tr th {\n",
       "        vertical-align: top;\n",
       "    }\n",
       "\n",
       "    .dataframe thead th {\n",
       "        text-align: right;\n",
       "    }\n",
       "</style>\n",
       "<table border=\"1\" class=\"dataframe\">\n",
       "  <thead>\n",
       "    <tr style=\"text-align: right;\">\n",
       "      <th></th>\n",
       "      <th>CustomerID</th>\n",
       "      <th>Recency</th>\n",
       "      <th>Frequency</th>\n",
       "      <th>Monetary</th>\n",
       "    </tr>\n",
       "  </thead>\n",
       "  <tbody>\n",
       "    <tr>\n",
       "      <th>0</th>\n",
       "      <td>12346</td>\n",
       "      <td>325</td>\n",
       "      <td>1</td>\n",
       "      <td>77183.60</td>\n",
       "    </tr>\n",
       "    <tr>\n",
       "      <th>1</th>\n",
       "      <td>12747</td>\n",
       "      <td>2</td>\n",
       "      <td>11</td>\n",
       "      <td>4196.01</td>\n",
       "    </tr>\n",
       "    <tr>\n",
       "      <th>2</th>\n",
       "      <td>12748</td>\n",
       "      <td>0</td>\n",
       "      <td>209</td>\n",
       "      <td>32124.97</td>\n",
       "    </tr>\n",
       "    <tr>\n",
       "      <th>3</th>\n",
       "      <td>12749</td>\n",
       "      <td>3</td>\n",
       "      <td>5</td>\n",
       "      <td>3868.20</td>\n",
       "    </tr>\n",
       "    <tr>\n",
       "      <th>4</th>\n",
       "      <td>12820</td>\n",
       "      <td>3</td>\n",
       "      <td>4</td>\n",
       "      <td>942.34</td>\n",
       "    </tr>\n",
       "  </tbody>\n",
       "</table>\n",
       "</div>"
      ],
      "text/plain": [
       "  CustomerID  Recency  Frequency  Monetary\n",
       "0      12346      325          1  77183.60\n",
       "1      12747        2         11   4196.01\n",
       "2      12748        0        209  32124.97\n",
       "3      12749        3          5   3868.20\n",
       "4      12820        3          4    942.34"
      ]
     },
     "execution_count": 61,
     "metadata": {},
     "output_type": "execute_result"
    }
   ],
   "source": [
    "RFM_df.head()"
   ]
  },
  {
   "cell_type": "code",
   "execution_count": 62,
   "metadata": {},
   "outputs": [],
   "source": [
    "RFM_df.set_index('CustomerID',inplace=True)"
   ]
  },
  {
   "cell_type": "markdown",
   "metadata": {},
   "source": [
    "### 3.5 Customer Segmentation with RFM Model"
   ]
  },
  {
   "cell_type": "markdown",
   "metadata": {},
   "source": [
    "The simplest way to create customers segments from RFM Model is to use Quartiles. We assign a score from 1 to 4 to Recency, Frequency and Monetary. Four is the best/highest value, and one is the lowest/worst value. A final RFM score is calculated simply by combining individual RFM score numbers."
   ]
  },
  {
   "cell_type": "code",
   "execution_count": 63,
   "metadata": {
    "scrolled": true
   },
   "outputs": [],
   "source": [
    "quantile_df = RFM_df.quantile([0.25,0.5,0.75])"
   ]
  },
  {
   "cell_type": "code",
   "execution_count": 64,
   "metadata": {},
   "outputs": [
    {
     "data": {
      "text/html": [
       "<div>\n",
       "<style scoped>\n",
       "    .dataframe tbody tr th:only-of-type {\n",
       "        vertical-align: middle;\n",
       "    }\n",
       "\n",
       "    .dataframe tbody tr th {\n",
       "        vertical-align: top;\n",
       "    }\n",
       "\n",
       "    .dataframe thead th {\n",
       "        text-align: right;\n",
       "    }\n",
       "</style>\n",
       "<table border=\"1\" class=\"dataframe\">\n",
       "  <thead>\n",
       "    <tr style=\"text-align: right;\">\n",
       "      <th></th>\n",
       "      <th>Recency</th>\n",
       "      <th>Frequency</th>\n",
       "      <th>Monetary</th>\n",
       "    </tr>\n",
       "  </thead>\n",
       "  <tbody>\n",
       "    <tr>\n",
       "      <th>0.25</th>\n",
       "      <td>17.0</td>\n",
       "      <td>1.0</td>\n",
       "      <td>292.405</td>\n",
       "    </tr>\n",
       "    <tr>\n",
       "      <th>0.50</th>\n",
       "      <td>50.0</td>\n",
       "      <td>2.0</td>\n",
       "      <td>636.240</td>\n",
       "    </tr>\n",
       "    <tr>\n",
       "      <th>0.75</th>\n",
       "      <td>142.5</td>\n",
       "      <td>5.0</td>\n",
       "      <td>1546.385</td>\n",
       "    </tr>\n",
       "  </tbody>\n",
       "</table>\n",
       "</div>"
      ],
      "text/plain": [
       "      Recency  Frequency  Monetary\n",
       "0.25     17.0        1.0   292.405\n",
       "0.50     50.0        2.0   636.240\n",
       "0.75    142.5        5.0  1546.385"
      ]
     },
     "execution_count": 64,
     "metadata": {},
     "output_type": "execute_result"
    }
   ],
   "source": [
    "quantile_df"
   ]
  },
  {
   "cell_type": "code",
   "execution_count": 65,
   "metadata": {},
   "outputs": [],
   "source": [
    "#arguments (x = value,attr = Recency/Frequency/Monetary)\n",
    "\n",
    "def Recency_score(x,attr):\n",
    "    \n",
    "    q = quantile_df\n",
    "    \n",
    "    if x <=q[attr][0.25]:\n",
    "        return 4\n",
    "    elif x<=q[attr][0.50]:\n",
    "        return 3\n",
    "    elif x<=q[attr][0.75]:\n",
    "        return 2\n",
    "    else:\n",
    "        return 1\n",
    "    \n",
    "def FreqMon_score(x,attr):\n",
    "        \n",
    "    q = quantile_df\n",
    "    \n",
    "    if x <=q[attr][0.25]:\n",
    "        return 1\n",
    "    elif x<=q[attr][0.50]:\n",
    "        return 2\n",
    "    elif x<=q[attr][0.75]:\n",
    "        return 3\n",
    "    else:\n",
    "        return 4\n",
    "    "
   ]
  },
  {
   "cell_type": "code",
   "execution_count": 66,
   "metadata": {},
   "outputs": [],
   "source": [
    "RFM_df['R_score'] = RFM_df['Recency'].apply(Recency_score,args=('Recency',))\n",
    "RFM_df['F_score'] = RFM_df['Frequency'].apply(FreqMon_score,args=('Frequency',))\n",
    "RFM_df['M_score'] = RFM_df['Monetary'].apply(FreqMon_score,args=('Monetary',))"
   ]
  },
  {
   "cell_type": "code",
   "execution_count": 67,
   "metadata": {},
   "outputs": [
    {
     "data": {
      "text/html": [
       "<div>\n",
       "<style scoped>\n",
       "    .dataframe tbody tr th:only-of-type {\n",
       "        vertical-align: middle;\n",
       "    }\n",
       "\n",
       "    .dataframe tbody tr th {\n",
       "        vertical-align: top;\n",
       "    }\n",
       "\n",
       "    .dataframe thead th {\n",
       "        text-align: right;\n",
       "    }\n",
       "</style>\n",
       "<table border=\"1\" class=\"dataframe\">\n",
       "  <thead>\n",
       "    <tr style=\"text-align: right;\">\n",
       "      <th></th>\n",
       "      <th>Recency</th>\n",
       "      <th>Frequency</th>\n",
       "      <th>Monetary</th>\n",
       "      <th>R_score</th>\n",
       "      <th>F_score</th>\n",
       "      <th>M_score</th>\n",
       "    </tr>\n",
       "    <tr>\n",
       "      <th>CustomerID</th>\n",
       "      <th></th>\n",
       "      <th></th>\n",
       "      <th></th>\n",
       "      <th></th>\n",
       "      <th></th>\n",
       "      <th></th>\n",
       "    </tr>\n",
       "  </thead>\n",
       "  <tbody>\n",
       "    <tr>\n",
       "      <th>12346</th>\n",
       "      <td>325</td>\n",
       "      <td>1</td>\n",
       "      <td>77183.60</td>\n",
       "      <td>1</td>\n",
       "      <td>1</td>\n",
       "      <td>4</td>\n",
       "    </tr>\n",
       "    <tr>\n",
       "      <th>12747</th>\n",
       "      <td>2</td>\n",
       "      <td>11</td>\n",
       "      <td>4196.01</td>\n",
       "      <td>4</td>\n",
       "      <td>4</td>\n",
       "      <td>4</td>\n",
       "    </tr>\n",
       "    <tr>\n",
       "      <th>12748</th>\n",
       "      <td>0</td>\n",
       "      <td>209</td>\n",
       "      <td>32124.97</td>\n",
       "      <td>4</td>\n",
       "      <td>4</td>\n",
       "      <td>4</td>\n",
       "    </tr>\n",
       "    <tr>\n",
       "      <th>12749</th>\n",
       "      <td>3</td>\n",
       "      <td>5</td>\n",
       "      <td>3868.20</td>\n",
       "      <td>4</td>\n",
       "      <td>3</td>\n",
       "      <td>4</td>\n",
       "    </tr>\n",
       "    <tr>\n",
       "      <th>12820</th>\n",
       "      <td>3</td>\n",
       "      <td>4</td>\n",
       "      <td>942.34</td>\n",
       "      <td>4</td>\n",
       "      <td>3</td>\n",
       "      <td>3</td>\n",
       "    </tr>\n",
       "  </tbody>\n",
       "</table>\n",
       "</div>"
      ],
      "text/plain": [
       "            Recency  Frequency  Monetary  R_score  F_score  M_score\n",
       "CustomerID                                                         \n",
       "12346           325          1  77183.60        1        1        4\n",
       "12747             2         11   4196.01        4        4        4\n",
       "12748             0        209  32124.97        4        4        4\n",
       "12749             3          5   3868.20        4        3        4\n",
       "12820             3          4    942.34        4        3        3"
      ]
     },
     "execution_count": 67,
     "metadata": {},
     "output_type": "execute_result"
    }
   ],
   "source": [
    "RFM_df.head()"
   ]
  },
  {
   "cell_type": "code",
   "execution_count": 68,
   "metadata": {},
   "outputs": [],
   "source": [
    "RFM_df['RFM_Score'] = RFM_df['R_score']*100 + RFM_df['F_score']*10 + RFM_df['M_score']*1\n",
    "RFM_df['RFM_Score'] = RFM_df['RFM_Score'].apply(str)"
   ]
  },
  {
   "cell_type": "code",
   "execution_count": 69,
   "metadata": {
    "scrolled": false
   },
   "outputs": [
    {
     "data": {
      "text/plain": [
       "444    421\n",
       "111    398\n",
       "112    209\n",
       "333    187\n",
       "211    183\n",
       "      ... \n",
       "342      2\n",
       "314      2\n",
       "142      1\n",
       "414      1\n",
       "441      1\n",
       "Name: RFM_Score, Length: 61, dtype: int64"
      ]
     },
     "execution_count": 69,
     "metadata": {},
     "output_type": "execute_result"
    }
   ],
   "source": [
    "RFM_df['RFM_Score'].value_counts()"
   ]
  },
  {
   "cell_type": "markdown",
   "metadata": {},
   "source": [
    "### 4. Customer Segmentation using Kmeans Clustering"
   ]
  },
  {
   "cell_type": "markdown",
   "metadata": {},
   "source": [
    "### 4.1 Data Preprocessing"
   ]
  },
  {
   "cell_type": "code",
   "execution_count": 70,
   "metadata": {},
   "outputs": [
    {
     "data": {
      "text/plain": [
       "<matplotlib.axes._subplots.AxesSubplot at 0x7fb132f4b610>"
      ]
     },
     "execution_count": 70,
     "metadata": {},
     "output_type": "execute_result"
    },
    {
     "data": {
      "image/png": "[encoded data removed]",
      "text/plain": [
       "<Figure size 1440x360 with 3 Axes>"
      ]
     },
     "metadata": {
      "needs_background": "light"
     },
     "output_type": "display_data"
    }
   ],
   "source": [
    "fig,ax = plt.subplots(1,3,figsize = (20,5))\n",
    "sns.distplot(RFM_df['Recency'],ax=ax[0])\n",
    "sns.distplot(RFM_df['Frequency'],ax=ax[1])\n",
    "sns.distplot(RFM_df['Monetary'],ax=ax[2])"
   ]
  },
  {
   "cell_type": "code",
   "execution_count": 71,
   "metadata": {},
   "outputs": [
    {
     "name": "stdout",
     "output_type": "stream",
     "text": [
      "Skewness of Recency: 1.2449479298095047\n",
      "Skewness of Frequency: 10.79832389848548\n",
      "Skewness of Monetary: 20.771597563597865\n"
     ]
    }
   ],
   "source": [
    "## The Data Looks Positively Skewed\n",
    "print(\"Skewness of Recency: {}\".format(RFM_df['Recency'].skew()))\n",
    "print(\"Skewness of Frequency: {}\".format(RFM_df['Frequency'].skew()))\n",
    "print(\"Skewness of Monetary: {}\".format(RFM_df['Monetary'].skew()))"
   ]
  },
  {
   "cell_type": "code",
   "execution_count": 72,
   "metadata": {},
   "outputs": [],
   "source": [
    "## Skewness value of all attribute is more than 1 for all attribute. So we can say all are positively features"
   ]
  },
  {
   "cell_type": "code",
   "execution_count": 73,
   "metadata": {},
   "outputs": [],
   "source": [
    "RFM_df['Recency'] = RFM_df['Recency'].apply(lambda x:x+1)\n",
    "RFM_df['Monetary'] = RFM_df['Monetary'].apply(lambda x:x+0.0000001)"
   ]
  },
  {
   "cell_type": "code",
   "execution_count": 74,
   "metadata": {},
   "outputs": [
    {
     "data": {
      "image/png": "[encoded data removed]",
      "text/plain": [
       "<Figure size 1080x720 with 6 Axes>"
      ]
     },
     "metadata": {
      "needs_background": "light"
     },
     "output_type": "display_data"
    }
   ],
   "source": [
    "## Lets try Box-cox transformation \n",
    "fig,ax = plt.subplots(2,3,figsize = (15,10))\n",
    "sns.distplot(RFM_df['Recency'],ax=ax[0,0])\n",
    "sns.distplot(RFM_df['Frequency'],ax=ax[0,1])\n",
    "sns.distplot(RFM_df['Monetary'],ax=ax[0,2])\n",
    "sns.distplot(stats.boxcox(RFM_df['Recency'])[0],ax=ax[1,0])\n",
    "sns.distplot(stats.boxcox(RFM_df['Frequency'])[0],ax=ax[1,1])\n",
    "sns.distplot(stats.boxcox(RFM_df['Monetary'])[0],ax=ax[1,2])\n",
    "plt.tight_layout()\n",
    "plt.show()"
   ]
  },
  {
   "cell_type": "code",
   "execution_count": 75,
   "metadata": {},
   "outputs": [
    {
     "name": "stdout",
     "output_type": "stream",
     "text": [
      "Skewness for Recency: -0.06381684804981501\n",
      "Skewness for Frequency: 0.1442611902215325\n",
      "Skewness for Monetary: 0.12824376442157176\n"
     ]
    }
   ],
   "source": [
    "#Lets check their Skewness values after Box-cox transformation\n",
    "print('Skewness for Recency: {}'.format(pd.Series(stats.boxcox(RFM_df['Recency'])[0]).skew()))\n",
    "print('Skewness for Frequency: {}'.format(pd.Series(stats.boxcox(RFM_df['Frequency'])[0]).skew()))\n",
    "print('Skewness for Monetary: {}'.format(pd.Series(stats.boxcox(RFM_df['Monetary'])[0]).skew()))"
   ]
  },
  {
   "cell_type": "code",
   "execution_count": 76,
   "metadata": {},
   "outputs": [],
   "source": [
    "# After Box-Cox Transformation all three features dont show any skewness in their distributions.\n",
    "RFM_transformed = pd.DataFrame()\n",
    "RFM_transformed['Recency'] = stats.boxcox(RFM_df['Recency'])[0]\n",
    "RFM_transformed['Frequency'] = stats.boxcox(RFM_df['Frequency'])[0]\n",
    "RFM_transformed['Monetary'] = stats.boxcox(RFM_df['Monetary'])[0]\n",
    "\n",
    "#RFM_transformed['Recency'] = RFM_df['Recency']\n",
    "#RFM_transformed['Frequency'] = RFM_df['Frequency']\n",
    "#RFM_transformed['Monetary'] = RFM_df['Monetary']\n",
    "\n"
   ]
  },
  {
   "cell_type": "code",
   "execution_count": 77,
   "metadata": {},
   "outputs": [
    {
     "data": {
      "text/html": [
       "<div>\n",
       "<style scoped>\n",
       "    .dataframe tbody tr th:only-of-type {\n",
       "        vertical-align: middle;\n",
       "    }\n",
       "\n",
       "    .dataframe tbody tr th {\n",
       "        vertical-align: top;\n",
       "    }\n",
       "\n",
       "    .dataframe thead th {\n",
       "        text-align: right;\n",
       "    }\n",
       "</style>\n",
       "<table border=\"1\" class=\"dataframe\">\n",
       "  <thead>\n",
       "    <tr style=\"text-align: right;\">\n",
       "      <th></th>\n",
       "      <th>Recency</th>\n",
       "      <th>Frequency</th>\n",
       "      <th>Monetary</th>\n",
       "    </tr>\n",
       "  </thead>\n",
       "  <tbody>\n",
       "    <tr>\n",
       "      <th>0</th>\n",
       "      <td>9.464689</td>\n",
       "      <td>0.000000</td>\n",
       "      <td>14.214625</td>\n",
       "    </tr>\n",
       "    <tr>\n",
       "      <th>1</th>\n",
       "      <td>1.199770</td>\n",
       "      <td>1.527353</td>\n",
       "      <td>9.902577</td>\n",
       "    </tr>\n",
       "    <tr>\n",
       "      <th>2</th>\n",
       "      <td>0.000000</td>\n",
       "      <td>2.168285</td>\n",
       "      <td>12.863415</td>\n",
       "    </tr>\n",
       "    <tr>\n",
       "      <th>3</th>\n",
       "      <td>1.549908</td>\n",
       "      <td>1.178717</td>\n",
       "      <td>9.789190</td>\n",
       "    </tr>\n",
       "    <tr>\n",
       "      <th>4</th>\n",
       "      <td>1.549908</td>\n",
       "      <td>1.057828</td>\n",
       "      <td>7.878430</td>\n",
       "    </tr>\n",
       "    <tr>\n",
       "      <th>...</th>\n",
       "      <td>...</td>\n",
       "      <td>...</td>\n",
       "      <td>...</td>\n",
       "    </tr>\n",
       "    <tr>\n",
       "      <th>3910</th>\n",
       "      <td>9.072094</td>\n",
       "      <td>0.000000</td>\n",
       "      <td>5.775870</td>\n",
       "    </tr>\n",
       "    <tr>\n",
       "      <th>3911</th>\n",
       "      <td>8.062254</td>\n",
       "      <td>0.000000</td>\n",
       "      <td>4.801761</td>\n",
       "    </tr>\n",
       "    <tr>\n",
       "      <th>3912</th>\n",
       "      <td>2.461914</td>\n",
       "      <td>0.603468</td>\n",
       "      <td>5.748310</td>\n",
       "    </tr>\n",
       "    <tr>\n",
       "      <th>3913</th>\n",
       "      <td>1.549908</td>\n",
       "      <td>1.657489</td>\n",
       "      <td>8.913736</td>\n",
       "    </tr>\n",
       "    <tr>\n",
       "      <th>3914</th>\n",
       "      <td>5.138067</td>\n",
       "      <td>0.884754</td>\n",
       "      <td>8.768387</td>\n",
       "    </tr>\n",
       "  </tbody>\n",
       "</table>\n",
       "<p>3915 rows × 3 columns</p>\n",
       "</div>"
      ],
      "text/plain": [
       "       Recency  Frequency   Monetary\n",
       "0     9.464689   0.000000  14.214625\n",
       "1     1.199770   1.527353   9.902577\n",
       "2     0.000000   2.168285  12.863415\n",
       "3     1.549908   1.178717   9.789190\n",
       "4     1.549908   1.057828   7.878430\n",
       "...        ...        ...        ...\n",
       "3910  9.072094   0.000000   5.775870\n",
       "3911  8.062254   0.000000   4.801761\n",
       "3912  2.461914   0.603468   5.748310\n",
       "3913  1.549908   1.657489   8.913736\n",
       "3914  5.138067   0.884754   8.768387\n",
       "\n",
       "[3915 rows x 3 columns]"
      ]
     },
     "execution_count": 77,
     "metadata": {},
     "output_type": "execute_result"
    }
   ],
   "source": [
    "RFM_transformed"
   ]
  },
  {
   "cell_type": "code",
   "execution_count": 78,
   "metadata": {},
   "outputs": [
    {
     "data": {
      "text/html": [
       "<div>\n",
       "<style scoped>\n",
       "    .dataframe tbody tr th:only-of-type {\n",
       "        vertical-align: middle;\n",
       "    }\n",
       "\n",
       "    .dataframe tbody tr th {\n",
       "        vertical-align: top;\n",
       "    }\n",
       "\n",
       "    .dataframe thead th {\n",
       "        text-align: right;\n",
       "    }\n",
       "</style>\n",
       "<table border=\"1\" class=\"dataframe\">\n",
       "  <thead>\n",
       "    <tr style=\"text-align: right;\">\n",
       "      <th></th>\n",
       "      <th>Recency</th>\n",
       "      <th>Frequency</th>\n",
       "      <th>Monetary</th>\n",
       "    </tr>\n",
       "  </thead>\n",
       "  <tbody>\n",
       "    <tr>\n",
       "      <th>0</th>\n",
       "      <td>1.622539</td>\n",
       "      <td>-1.184236</td>\n",
       "      <td>4.039558</td>\n",
       "    </tr>\n",
       "    <tr>\n",
       "      <th>1</th>\n",
       "      <td>-1.738027</td>\n",
       "      <td>1.484555</td>\n",
       "      <td>1.448838</td>\n",
       "    </tr>\n",
       "    <tr>\n",
       "      <th>2</th>\n",
       "      <td>-2.225860</td>\n",
       "      <td>2.604474</td>\n",
       "      <td>3.227738</td>\n",
       "    </tr>\n",
       "    <tr>\n",
       "      <th>3</th>\n",
       "      <td>-1.595658</td>\n",
       "      <td>0.875373</td>\n",
       "      <td>1.380714</td>\n",
       "    </tr>\n",
       "    <tr>\n",
       "      <th>4</th>\n",
       "      <td>-1.595658</td>\n",
       "      <td>0.664140</td>\n",
       "      <td>0.232711</td>\n",
       "    </tr>\n",
       "  </tbody>\n",
       "</table>\n",
       "</div>"
      ],
      "text/plain": [
       "    Recency  Frequency  Monetary\n",
       "0  1.622539  -1.184236  4.039558\n",
       "1 -1.738027   1.484555  1.448838\n",
       "2 -2.225860   2.604474  3.227738\n",
       "3 -1.595658   0.875373  1.380714\n",
       "4 -1.595658   0.664140  0.232711"
      ]
     },
     "execution_count": 78,
     "metadata": {},
     "output_type": "execute_result"
    }
   ],
   "source": [
    "scaler = StandardScaler()\n",
    "RFM_standardized=scaler.fit_transform(RFM_transformed)\n",
    "RFM_standardized = pd.DataFrame(RFM_standardized,columns= RFM_transformed.columns)\n",
    "RFM_standardized.head()"
   ]
  },
  {
   "cell_type": "code",
   "execution_count": 79,
   "metadata": {},
   "outputs": [
    {
     "data": {
      "text/html": [
       "<div>\n",
       "<style scoped>\n",
       "    .dataframe tbody tr th:only-of-type {\n",
       "        vertical-align: middle;\n",
       "    }\n",
       "\n",
       "    .dataframe tbody tr th {\n",
       "        vertical-align: top;\n",
       "    }\n",
       "\n",
       "    .dataframe thead th {\n",
       "        text-align: right;\n",
       "    }\n",
       "</style>\n",
       "<table border=\"1\" class=\"dataframe\">\n",
       "  <thead>\n",
       "    <tr style=\"text-align: right;\">\n",
       "      <th></th>\n",
       "      <th>Recency</th>\n",
       "      <th>Frequency</th>\n",
       "      <th>Monetary</th>\n",
       "    </tr>\n",
       "  </thead>\n",
       "  <tbody>\n",
       "    <tr>\n",
       "      <th>count</th>\n",
       "      <td>3.915000e+03</td>\n",
       "      <td>3.915000e+03</td>\n",
       "      <td>3.915000e+03</td>\n",
       "    </tr>\n",
       "    <tr>\n",
       "      <th>mean</th>\n",
       "      <td>-3.673520e-16</td>\n",
       "      <td>1.977984e-16</td>\n",
       "      <td>1.996700e-16</td>\n",
       "    </tr>\n",
       "    <tr>\n",
       "      <th>std</th>\n",
       "      <td>1.000128e+00</td>\n",
       "      <td>1.000128e+00</td>\n",
       "      <td>1.000128e+00</td>\n",
       "    </tr>\n",
       "    <tr>\n",
       "      <th>min</th>\n",
       "      <td>-2.225860e+00</td>\n",
       "      <td>-1.184236e+00</td>\n",
       "      <td>-1.163785e+01</td>\n",
       "    </tr>\n",
       "    <tr>\n",
       "      <th>25%</th>\n",
       "      <td>-7.361403e-01</td>\n",
       "      <td>-1.184236e+00</td>\n",
       "      <td>-6.706691e-01</td>\n",
       "    </tr>\n",
       "    <tr>\n",
       "      <th>50%</th>\n",
       "      <td>-9.259147e-03</td>\n",
       "      <td>-1.297766e-01</td>\n",
       "      <td>-7.523896e-02</td>\n",
       "    </tr>\n",
       "    <tr>\n",
       "      <th>75%</th>\n",
       "      <td>8.414921e-01</td>\n",
       "      <td>8.753728e-01</td>\n",
       "      <td>6.279989e-01</td>\n",
       "    </tr>\n",
       "    <tr>\n",
       "      <th>max</th>\n",
       "      <td>1.763468e+00</td>\n",
       "      <td>2.604474e+00</td>\n",
       "      <td>5.211160e+00</td>\n",
       "    </tr>\n",
       "  </tbody>\n",
       "</table>\n",
       "</div>"
      ],
      "text/plain": [
       "            Recency     Frequency      Monetary\n",
       "count  3.915000e+03  3.915000e+03  3.915000e+03\n",
       "mean  -3.673520e-16  1.977984e-16  1.996700e-16\n",
       "std    1.000128e+00  1.000128e+00  1.000128e+00\n",
       "min   -2.225860e+00 -1.184236e+00 -1.163785e+01\n",
       "25%   -7.361403e-01 -1.184236e+00 -6.706691e-01\n",
       "50%   -9.259147e-03 -1.297766e-01 -7.523896e-02\n",
       "75%    8.414921e-01  8.753728e-01  6.279989e-01\n",
       "max    1.763468e+00  2.604474e+00  5.211160e+00"
      ]
     },
     "execution_count": 79,
     "metadata": {},
     "output_type": "execute_result"
    }
   ],
   "source": [
    "RFM_standardized.describe()"
   ]
  },
  {
   "cell_type": "markdown",
   "metadata": {},
   "source": [
    "### 4.2 Selecting Number of Clusters"
   ]
  },
  {
   "cell_type": "code",
   "execution_count": 80,
   "metadata": {},
   "outputs": [],
   "source": [
    "## Modelling\n",
    "# K-Means clustering "
   ]
  },
  {
   "cell_type": "code",
   "execution_count": 81,
   "metadata": {},
   "outputs": [],
   "source": [
    "silhouette_scores = []\n",
    "distances = []\n",
    "for k in range(1,10):\n",
    "    kmeans = KMeans(n_clusters=k,random_state=42)\n",
    "    kmeans.fit(RFM_standardized)\n",
    "    if k>=2:\n",
    "         silhouette_scores.append((k,silhouette_score(RFM_standardized,kmeans.labels_)))\n",
    "    distances.append((k,kmeans.inertia_))"
   ]
  },
  {
   "cell_type": "code",
   "execution_count": 82,
   "metadata": {},
   "outputs": [
    {
     "data": {
      "text/plain": [
       "[<matplotlib.lines.Line2D at 0x7fb11b015890>]"
      ]
     },
     "execution_count": 82,
     "metadata": {},
     "output_type": "execute_result"
    },
    {
     "data": {
      "image/png": "[encoded data removed]",
      "text/plain": [
       "<Figure size 432x288 with 1 Axes>"
      ]
     },
     "metadata": {
      "needs_background": "light"
     },
     "output_type": "display_data"
    }
   ],
   "source": [
    "plt.plot(pd.DataFrame(silhouette_scores)[0],pd.DataFrame(silhouette_scores)[1])"
   ]
  },
  {
   "cell_type": "code",
   "execution_count": 83,
   "metadata": {},
   "outputs": [
    {
     "data": {
      "text/plain": [
       "[<matplotlib.lines.Line2D at 0x7fb1069b9ed0>]"
      ]
     },
     "execution_count": 83,
     "metadata": {},
     "output_type": "execute_result"
    },
    {
     "data": {
      "image/png": "[encoded data removed]",
      "text/plain": [
       "<Figure size 432x288 with 1 Axes>"
      ]
     },
     "metadata": {
      "needs_background": "light"
     },
     "output_type": "display_data"
    }
   ],
   "source": [
    "plt.plot(pd.DataFrame(distances)[0],pd.DataFrame(distances)[1])"
   ]
  },
  {
   "cell_type": "code",
   "execution_count": 84,
   "metadata": {},
   "outputs": [],
   "source": [
    "# From Silhoutte score as well as sum of squared distance(SSE) plots I have selected k = 3.\n",
    "#because is SSE plot after 3 the plot becomes flat and linear\n",
    "#"
   ]
  },
  {
   "cell_type": "markdown",
   "metadata": {},
   "source": [
    "### 4.3 Kmeans Cluster Model"
   ]
  },
  {
   "cell_type": "code",
   "execution_count": 85,
   "metadata": {},
   "outputs": [
    {
     "data": {
      "text/plain": [
       "(3915,)"
      ]
     },
     "execution_count": 85,
     "metadata": {},
     "output_type": "execute_result"
    }
   ],
   "source": [
    "model = KMeans(n_clusters=3)\n",
    "model.fit(RFM_standardized)\n",
    "model.labels_.shape"
   ]
  },
  {
   "cell_type": "markdown",
   "metadata": {},
   "source": [
    "### 4.4 Cluster Analysis"
   ]
  },
  {
   "cell_type": "code",
   "execution_count": 86,
   "metadata": {},
   "outputs": [],
   "source": [
    "RFM_df['Cluster'] = model.labels_"
   ]
  },
  {
   "cell_type": "code",
   "execution_count": 87,
   "metadata": {},
   "outputs": [
    {
     "data": {
      "text/plain": [
       "1    1517\n",
       "2    1484\n",
       "0     914\n",
       "Name: Cluster, dtype: int64"
      ]
     },
     "execution_count": 87,
     "metadata": {},
     "output_type": "execute_result"
    }
   ],
   "source": [
    "RFM_df['Cluster'].value_counts()"
   ]
  },
  {
   "cell_type": "code",
   "execution_count": 88,
   "metadata": {},
   "outputs": [
    {
     "data": {
      "text/html": [
       "<div>\n",
       "<style scoped>\n",
       "    .dataframe tbody tr th:only-of-type {\n",
       "        vertical-align: middle;\n",
       "    }\n",
       "\n",
       "    .dataframe tbody tr th {\n",
       "        vertical-align: top;\n",
       "    }\n",
       "\n",
       "    .dataframe thead th {\n",
       "        text-align: right;\n",
       "    }\n",
       "</style>\n",
       "<table border=\"1\" class=\"dataframe\">\n",
       "  <thead>\n",
       "    <tr style=\"text-align: right;\">\n",
       "      <th>R_score</th>\n",
       "      <th>1</th>\n",
       "      <th>2</th>\n",
       "      <th>3</th>\n",
       "      <th>4</th>\n",
       "    </tr>\n",
       "    <tr>\n",
       "      <th>Cluster</th>\n",
       "      <th></th>\n",
       "      <th></th>\n",
       "      <th></th>\n",
       "      <th></th>\n",
       "    </tr>\n",
       "  </thead>\n",
       "  <tbody>\n",
       "    <tr>\n",
       "      <th>0</th>\n",
       "      <td>7</td>\n",
       "      <td>50</td>\n",
       "      <td>223</td>\n",
       "      <td>634</td>\n",
       "    </tr>\n",
       "    <tr>\n",
       "      <th>1</th>\n",
       "      <td>811</td>\n",
       "      <td>406</td>\n",
       "      <td>237</td>\n",
       "      <td>63</td>\n",
       "    </tr>\n",
       "    <tr>\n",
       "      <th>2</th>\n",
       "      <td>161</td>\n",
       "      <td>509</td>\n",
       "      <td>507</td>\n",
       "      <td>307</td>\n",
       "    </tr>\n",
       "  </tbody>\n",
       "</table>\n",
       "</div>"
      ],
      "text/plain": [
       "R_score    1    2    3    4\n",
       "Cluster                    \n",
       "0          7   50  223  634\n",
       "1        811  406  237   63\n",
       "2        161  509  507  307"
      ]
     },
     "execution_count": 88,
     "metadata": {},
     "output_type": "execute_result"
    },
    {
     "data": {
      "image/png": "[encoded data removed]",
      "text/plain": [
       "<Figure size 720x360 with 1 Axes>"
      ]
     },
     "metadata": {
      "needs_background": "light"
     },
     "output_type": "display_data"
    }
   ],
   "source": [
    "plt.figure(figsize=(10,5))\n",
    "sns.countplot(x = 'Cluster',hue = 'R_score',data= RFM_df)\n",
    "RFM_df.groupby(['Cluster','R_score']).count()['Recency'].unstack()"
   ]
  },
  {
   "cell_type": "code",
   "execution_count": 89,
   "metadata": {},
   "outputs": [
    {
     "data": {
      "text/html": [
       "<div>\n",
       "<style scoped>\n",
       "    .dataframe tbody tr th:only-of-type {\n",
       "        vertical-align: middle;\n",
       "    }\n",
       "\n",
       "    .dataframe tbody tr th {\n",
       "        vertical-align: top;\n",
       "    }\n",
       "\n",
       "    .dataframe thead th {\n",
       "        text-align: right;\n",
       "    }\n",
       "</style>\n",
       "<table border=\"1\" class=\"dataframe\">\n",
       "  <thead>\n",
       "    <tr style=\"text-align: right;\">\n",
       "      <th>F_score</th>\n",
       "      <th>1</th>\n",
       "      <th>2</th>\n",
       "      <th>3</th>\n",
       "      <th>4</th>\n",
       "    </tr>\n",
       "    <tr>\n",
       "      <th>Cluster</th>\n",
       "      <th></th>\n",
       "      <th></th>\n",
       "      <th></th>\n",
       "      <th></th>\n",
       "    </tr>\n",
       "  </thead>\n",
       "  <tbody>\n",
       "    <tr>\n",
       "      <th>0</th>\n",
       "      <td>1.0</td>\n",
       "      <td>5.0</td>\n",
       "      <td>213.0</td>\n",
       "      <td>695.0</td>\n",
       "    </tr>\n",
       "    <tr>\n",
       "      <th>1</th>\n",
       "      <td>1310.0</td>\n",
       "      <td>197.0</td>\n",
       "      <td>10.0</td>\n",
       "      <td>NaN</td>\n",
       "    </tr>\n",
       "    <tr>\n",
       "      <th>2</th>\n",
       "      <td>38.0</td>\n",
       "      <td>544.0</td>\n",
       "      <td>808.0</td>\n",
       "      <td>94.0</td>\n",
       "    </tr>\n",
       "  </tbody>\n",
       "</table>\n",
       "</div>"
      ],
      "text/plain": [
       "F_score       1      2      3      4\n",
       "Cluster                             \n",
       "0           1.0    5.0  213.0  695.0\n",
       "1        1310.0  197.0   10.0    NaN\n",
       "2          38.0  544.0  808.0   94.0"
      ]
     },
     "execution_count": 89,
     "metadata": {},
     "output_type": "execute_result"
    },
    {
     "data": {
      "image/png": "[encoded data removed]",
      "text/plain": [
       "<Figure size 720x360 with 1 Axes>"
      ]
     },
     "metadata": {
      "needs_background": "light"
     },
     "output_type": "display_data"
    }
   ],
   "source": [
    "plt.figure(figsize=(10,5))\n",
    "sns.countplot(x = 'Cluster',hue = 'F_score',data= RFM_df)\n",
    "RFM_df.groupby(['Cluster','F_score']).count()['Recency'].unstack()"
   ]
  },
  {
   "cell_type": "code",
   "execution_count": 90,
   "metadata": {},
   "outputs": [
    {
     "data": {
      "text/html": [
       "<div>\n",
       "<style scoped>\n",
       "    .dataframe tbody tr th:only-of-type {\n",
       "        vertical-align: middle;\n",
       "    }\n",
       "\n",
       "    .dataframe tbody tr th {\n",
       "        vertical-align: top;\n",
       "    }\n",
       "\n",
       "    .dataframe thead th {\n",
       "        text-align: right;\n",
       "    }\n",
       "</style>\n",
       "<table border=\"1\" class=\"dataframe\">\n",
       "  <thead>\n",
       "    <tr style=\"text-align: right;\">\n",
       "      <th>M_score</th>\n",
       "      <th>1</th>\n",
       "      <th>2</th>\n",
       "      <th>3</th>\n",
       "      <th>4</th>\n",
       "    </tr>\n",
       "    <tr>\n",
       "      <th>Cluster</th>\n",
       "      <th></th>\n",
       "      <th></th>\n",
       "      <th></th>\n",
       "      <th></th>\n",
       "    </tr>\n",
       "  </thead>\n",
       "  <tbody>\n",
       "    <tr>\n",
       "      <th>0</th>\n",
       "      <td>NaN</td>\n",
       "      <td>1.0</td>\n",
       "      <td>142.0</td>\n",
       "      <td>771.0</td>\n",
       "    </tr>\n",
       "    <tr>\n",
       "      <th>1</th>\n",
       "      <td>862.0</td>\n",
       "      <td>543.0</td>\n",
       "      <td>100.0</td>\n",
       "      <td>12.0</td>\n",
       "    </tr>\n",
       "    <tr>\n",
       "      <th>2</th>\n",
       "      <td>117.0</td>\n",
       "      <td>435.0</td>\n",
       "      <td>736.0</td>\n",
       "      <td>196.0</td>\n",
       "    </tr>\n",
       "  </tbody>\n",
       "</table>\n",
       "</div>"
      ],
      "text/plain": [
       "M_score      1      2      3      4\n",
       "Cluster                            \n",
       "0          NaN    1.0  142.0  771.0\n",
       "1        862.0  543.0  100.0   12.0\n",
       "2        117.0  435.0  736.0  196.0"
      ]
     },
     "execution_count": 90,
     "metadata": {},
     "output_type": "execute_result"
    },
    {
     "data": {
      "image/png": "[encoded data removed]",
      "text/plain": [
       "<Figure size 720x360 with 1 Axes>"
      ]
     },
     "metadata": {
      "needs_background": "light"
     },
     "output_type": "display_data"
    }
   ],
   "source": [
    "plt.figure(figsize=(10,5))\n",
    "sns.countplot(x = 'Cluster',hue = 'M_score',data= RFM_df)\n",
    "RFM_df.groupby(['Cluster','M_score']).count()['Recency'].unstack()"
   ]
  },
  {
   "cell_type": "code",
   "execution_count": 91,
   "metadata": {},
   "outputs": [
    {
     "data": {
      "text/html": [
       "<div>\n",
       "<style scoped>\n",
       "    .dataframe tbody tr th:only-of-type {\n",
       "        vertical-align: middle;\n",
       "    }\n",
       "\n",
       "    .dataframe tbody tr th {\n",
       "        vertical-align: top;\n",
       "    }\n",
       "\n",
       "    .dataframe thead th {\n",
       "        text-align: right;\n",
       "    }\n",
       "</style>\n",
       "<table border=\"1\" class=\"dataframe\">\n",
       "  <thead>\n",
       "    <tr style=\"text-align: right;\">\n",
       "      <th></th>\n",
       "      <th>Recency</th>\n",
       "      <th>Frequency</th>\n",
       "      <th>Monetary</th>\n",
       "      <th>ID</th>\n",
       "      <th>Cluster</th>\n",
       "    </tr>\n",
       "  </thead>\n",
       "  <tbody>\n",
       "    <tr>\n",
       "      <th>0</th>\n",
       "      <td>1.622539</td>\n",
       "      <td>-1.184236</td>\n",
       "      <td>4.039558</td>\n",
       "      <td>12346</td>\n",
       "      <td>0</td>\n",
       "    </tr>\n",
       "    <tr>\n",
       "      <th>1</th>\n",
       "      <td>-1.738027</td>\n",
       "      <td>1.484555</td>\n",
       "      <td>1.448838</td>\n",
       "      <td>12747</td>\n",
       "      <td>0</td>\n",
       "    </tr>\n",
       "    <tr>\n",
       "      <th>2</th>\n",
       "      <td>-2.225860</td>\n",
       "      <td>2.604474</td>\n",
       "      <td>3.227738</td>\n",
       "      <td>12748</td>\n",
       "      <td>0</td>\n",
       "    </tr>\n",
       "    <tr>\n",
       "      <th>3</th>\n",
       "      <td>-1.595658</td>\n",
       "      <td>0.875373</td>\n",
       "      <td>1.380714</td>\n",
       "      <td>12749</td>\n",
       "      <td>0</td>\n",
       "    </tr>\n",
       "    <tr>\n",
       "      <th>4</th>\n",
       "      <td>-1.595658</td>\n",
       "      <td>0.664140</td>\n",
       "      <td>0.232711</td>\n",
       "      <td>12820</td>\n",
       "      <td>0</td>\n",
       "    </tr>\n",
       "  </tbody>\n",
       "</table>\n",
       "</div>"
      ],
      "text/plain": [
       "    Recency  Frequency  Monetary     ID  Cluster\n",
       "0  1.622539  -1.184236  4.039558  12346        0\n",
       "1 -1.738027   1.484555  1.448838  12747        0\n",
       "2 -2.225860   2.604474  3.227738  12748        0\n",
       "3 -1.595658   0.875373  1.380714  12749        0\n",
       "4 -1.595658   0.664140  0.232711  12820        0"
      ]
     },
     "execution_count": 91,
     "metadata": {},
     "output_type": "execute_result"
    }
   ],
   "source": [
    "RFM_standardized['ID'] = RFM_df.index\n",
    "RFM_standardized['Cluster'] = model.labels_\n",
    "RFM_standardized.head()"
   ]
  },
  {
   "cell_type": "code",
   "execution_count": 92,
   "metadata": {},
   "outputs": [
    {
     "data": {
      "text/html": [
       "<div>\n",
       "<style scoped>\n",
       "    .dataframe tbody tr th:only-of-type {\n",
       "        vertical-align: middle;\n",
       "    }\n",
       "\n",
       "    .dataframe tbody tr th {\n",
       "        vertical-align: top;\n",
       "    }\n",
       "\n",
       "    .dataframe thead th {\n",
       "        text-align: right;\n",
       "    }\n",
       "</style>\n",
       "<table border=\"1\" class=\"dataframe\">\n",
       "  <thead>\n",
       "    <tr style=\"text-align: right;\">\n",
       "      <th></th>\n",
       "      <th>ID</th>\n",
       "      <th>Cluster</th>\n",
       "      <th>Attribute</th>\n",
       "      <th>Value</th>\n",
       "    </tr>\n",
       "  </thead>\n",
       "  <tbody>\n",
       "    <tr>\n",
       "      <th>0</th>\n",
       "      <td>12346</td>\n",
       "      <td>0</td>\n",
       "      <td>Recency</td>\n",
       "      <td>1.622539</td>\n",
       "    </tr>\n",
       "    <tr>\n",
       "      <th>1</th>\n",
       "      <td>12747</td>\n",
       "      <td>0</td>\n",
       "      <td>Recency</td>\n",
       "      <td>-1.738027</td>\n",
       "    </tr>\n",
       "    <tr>\n",
       "      <th>2</th>\n",
       "      <td>12748</td>\n",
       "      <td>0</td>\n",
       "      <td>Recency</td>\n",
       "      <td>-2.225860</td>\n",
       "    </tr>\n",
       "    <tr>\n",
       "      <th>3</th>\n",
       "      <td>12749</td>\n",
       "      <td>0</td>\n",
       "      <td>Recency</td>\n",
       "      <td>-1.595658</td>\n",
       "    </tr>\n",
       "    <tr>\n",
       "      <th>4</th>\n",
       "      <td>12820</td>\n",
       "      <td>0</td>\n",
       "      <td>Recency</td>\n",
       "      <td>-1.595658</td>\n",
       "    </tr>\n",
       "  </tbody>\n",
       "</table>\n",
       "</div>"
      ],
      "text/plain": [
       "      ID  Cluster Attribute     Value\n",
       "0  12346        0   Recency  1.622539\n",
       "1  12747        0   Recency -1.738027\n",
       "2  12748        0   Recency -2.225860\n",
       "3  12749        0   Recency -1.595658\n",
       "4  12820        0   Recency -1.595658"
      ]
     },
     "execution_count": 92,
     "metadata": {},
     "output_type": "execute_result"
    }
   ],
   "source": [
    "#Melt the data\n",
    "\n",
    "RFM_melt = pd.melt(RFM_standardized.reset_index(),\n",
    "                  id_vars= ['ID','Cluster'],\n",
    "                  value_vars = ['Recency','Frequency','Monetary'],\n",
    "                  var_name = 'Attribute',\n",
    "                  value_name = 'Value')\n",
    "RFM_melt.head()"
   ]
  },
  {
   "cell_type": "code",
   "execution_count": 93,
   "metadata": {},
   "outputs": [
    {
     "data": {
      "text/html": [
       "<div>\n",
       "<style scoped>\n",
       "    .dataframe tbody tr th:only-of-type {\n",
       "        vertical-align: middle;\n",
       "    }\n",
       "\n",
       "    .dataframe tbody tr th {\n",
       "        vertical-align: top;\n",
       "    }\n",
       "\n",
       "    .dataframe thead tr th {\n",
       "        text-align: left;\n",
       "    }\n",
       "\n",
       "    .dataframe thead tr:last-of-type th {\n",
       "        text-align: right;\n",
       "    }\n",
       "</style>\n",
       "<table border=\"1\" class=\"dataframe\">\n",
       "  <thead>\n",
       "    <tr>\n",
       "      <th></th>\n",
       "      <th>Recency</th>\n",
       "      <th>Frequency</th>\n",
       "      <th>Monetary</th>\n",
       "    </tr>\n",
       "    <tr>\n",
       "      <th></th>\n",
       "      <th>mean</th>\n",
       "      <th>mean</th>\n",
       "      <th>mean</th>\n",
       "    </tr>\n",
       "    <tr>\n",
       "      <th>Cluster</th>\n",
       "      <th></th>\n",
       "      <th></th>\n",
       "      <th></th>\n",
       "    </tr>\n",
       "  </thead>\n",
       "  <tbody>\n",
       "    <tr>\n",
       "      <th>0</th>\n",
       "      <td>-1.020830</td>\n",
       "      <td>1.261698</td>\n",
       "      <td>1.253761</td>\n",
       "    </tr>\n",
       "    <tr>\n",
       "      <th>1</th>\n",
       "      <td>0.732988</td>\n",
       "      <td>-1.037111</td>\n",
       "      <td>-0.819476</td>\n",
       "    </tr>\n",
       "    <tr>\n",
       "      <th>2</th>\n",
       "      <td>-0.120555</td>\n",
       "      <td>0.283090</td>\n",
       "      <td>0.065504</td>\n",
       "    </tr>\n",
       "  </tbody>\n",
       "</table>\n",
       "</div>"
      ],
      "text/plain": [
       "          Recency Frequency  Monetary\n",
       "             mean      mean      mean\n",
       "Cluster                              \n",
       "0       -1.020830  1.261698  1.253761\n",
       "1        0.732988 -1.037111 -0.819476\n",
       "2       -0.120555  0.283090  0.065504"
      ]
     },
     "execution_count": 93,
     "metadata": {},
     "output_type": "execute_result"
    },
    {
     "data": {
      "image/png": "[encoded data removed]",
      "text/plain": [
       "<Figure size 432x288 with 1 Axes>"
      ]
     },
     "metadata": {
      "needs_background": "light"
     },
     "output_type": "display_data"
    }
   ],
   "source": [
    "sns.lineplot('Attribute','Value',hue='Cluster',data = RFM_melt)\n",
    "RFM_standardized.groupby('Cluster').agg({'Recency':[np.mean],\n",
    "                              'Frequency':[np.mean],\n",
    "                              'Monetary':[np.mean]})"
   ]
  },
  {
   "cell_type": "markdown",
   "metadata": {},
   "source": [
    "## 5. Customer Segmentation and Marketing Strategies based on Kmeans Clusters and RFM Score"
   ]
  },
  {
   "cell_type": "markdown",
   "metadata": {},
   "source": [
    "### 5.1 Based on Kmeans Clustering\n",
    "__Cluster 2 is Frequent,Spend more and they have bought product recently, it is cluster of loyal customers__<br>\n",
    "__cluster 1 is less frequent, spends less and havent bought a product recently, it can be called cluster of churned__<br>\n",
    "__Cluster 0 customer are Average Spenders__<br>\n"
   ]
  },
  {
   "cell_type": "markdown",
   "metadata": {},
   "source": [
    "### 5.2 Based on RFM Score\n",
    "\n",
    "### 1. RFM Score: 444 \n",
    "__Best Customers__<br>\n",
    "__Who are they__:Highly engaged customers who have bought the most recent, the most often, and generated the most revenue.<br>\n",
    "__Marketing Strategies__: These customers have already shown willingness to spend more, so no need to use discount pricing. Focus on Loyalty Programs and New Product Introductions.We can focus on Product Recommendations based on purchase history to give value added offers<br>\n",
    "### 2. RFM Score: X4X\n",
    "__Loyal Customers__<br>\n",
    "__Who are they__:Customers who buy most often.<br>\n",
    "__Marketing Strategies:__ Loyalty programs like Free Shipping like Amazon Prime,small cashback offers on every purchase keeps them motivated to visit and spend often<br>\n",
    "### 3. RFM Score: X13,X14\n",
    "__faithful and Promising Customers__<br>\n",
    "__Who are they__:Customer who visits often, but do not spend a lot.<br>\n",
    "__Marketing Strategies__: We already have succeded in creating loyalty,our target is to make them spend more. We can achieve this by adding incentives to spending threshold. That threshold should be somewhat more than our Average Order Value(AOV) Target<br>\n",
    "### 4. RFM Score: XX4\n",
    "__Highest Paying Customers__<br>\n",
    "__Who are they__: Customer who have generated most revenue<br>\n",
    "__Marketing Strategies__: They already trust and like the your product. Consider premium offers(discount on buying complimentary products/Product bundling), better loyalty program offers<br>\n",
    "### 5. RFM Score: 41X\n",
    "__Newest Customers__<br>\n",
    "__Who are they__:First time buyers<br>\n",
    "__Marketing Strategies__:Triggered welcome emails like discount on first purchase or free delivery, Referral program discount to encourage them to promote your site. "
   ]
  },
  {
   "cell_type": "markdown",
   "metadata": {},
   "source": []
  },
  {
   "cell_type": "code",
   "execution_count": null,
   "metadata": {},
   "outputs": [],
   "source": []
  },
  {
   "cell_type": "markdown",
   "metadata": {},
   "source": [
    "## 6. Product Association Analysis"
   ]
  },
  {
   "cell_type": "code",
   "execution_count": 94,
   "metadata": {},
   "outputs": [],
   "source": [
    "df1 = pd.read_csv('data.csv',encoding=\"ISO-8859-1\")"
   ]
  },
  {
   "cell_type": "markdown",
   "metadata": {},
   "source": [
    "As we are concentrating on United Kingdom region, We will again filter UK orders.\n",
    "We are not concerned about orders which where returned later, as we want to focus on association of products which are bought together.We will just remove returned orders."
   ]
  },
  {
   "cell_type": "code",
   "execution_count": 95,
   "metadata": {},
   "outputs": [],
   "source": [
    "df1 = df1[(df1['Quantity']>0) & (df1['Country']=='United Kingdom')]"
   ]
  },
  {
   "cell_type": "code",
   "execution_count": 96,
   "metadata": {},
   "outputs": [],
   "source": [
    "d=df1[['InvoiceNo','StockCode']].drop_duplicates()"
   ]
  },
  {
   "cell_type": "code",
   "execution_count": 97,
   "metadata": {},
   "outputs": [
    {
     "data": {
      "text/plain": [
       "InvoiceNo\n",
       "536365    85123A\n",
       "536365     71053\n",
       "536365    84406B\n",
       "536365    84029G\n",
       "536365    84029E\n",
       "536365     22752\n",
       "536365     21730\n",
       "536366     22633\n",
       "536366     22632\n",
       "536367     84879\n",
       "Name: item_id, dtype: object"
      ]
     },
     "metadata": {},
     "output_type": "display_data"
    },
    {
     "data": {
      "text/plain": [
       "pandas.core.series.Series"
      ]
     },
     "execution_count": 97,
     "metadata": {},
     "output_type": "execute_result"
    }
   ],
   "source": [
    "# Converting dataframe with Invoice_id as index and products \n",
    "dd = d.set_index('InvoiceNo')['StockCode'].rename('item_id')\n",
    "display(dd.head(10))\n",
    "type(dd)"
   ]
  },
  {
   "cell_type": "markdown",
   "metadata": {},
   "source": [
    "### 6.1 Introduction to Support, Confidence & Lift"
   ]
  },
  {
   "cell_type": "markdown",
   "metadata": {},
   "source": [
    "__Support__: This is the percentage of orders that contains the indivisual Product<br><br>\n",
    "_ _ _ _ _ _ _  Support(A)= (Number of order having A)/Total Orders\n",
    "<br><br>\n",
    "__Confidence__:Given two items, A and B, confidence measures the percentage of times that item B is purchased, given that item A was purchased.<br><br>\n",
    "_ _ _ _ _ _ _  confidence{A->B} = support{A,B} / support{A} \n",
    "<br><br>\n",
    "__Lift__:Given two items, A and B, lift indicates whether there is a relationship between A and B, or whether the two items are occuring together in the same orders simply by chance (ie: at random).<br><br>\n",
    "_ _ _ _ _ _ _  lift{A,B} = lift{B,A} = support{A,B} / (support{A} * support{B})<br><br>"
   ]
  },
  {
   "cell_type": "markdown",
   "metadata": {},
   "source": [
    "### 6.2 Supporting Functions for Apriori Algorithm"
   ]
  },
  {
   "cell_type": "code",
   "execution_count": 106,
   "metadata": {},
   "outputs": [],
   "source": [
    "# Returns frequency counts for items and item pairs\n",
    "def freq(iterable):\n",
    "    if type(iterable) == pd.core.series.Series:\n",
    "        return iterable.value_counts().rename(\"freq\")\n",
    "    else: \n",
    "        return pd.Series(Counter(iterable)).rename(\"freq\")\n",
    "\n",
    "    \n",
    "# Returns number of unique orders\n",
    "def order_count(order_item):\n",
    "    return len(set(order_item.index))\n",
    "\n",
    "\n",
    "# Returns generator that yields item pairs, one at a time\n",
    "def get_item_pairs(order_item):\n",
    "    order_item = order_item.reset_index().values\n",
    "    for order_id, order_object in groupby(order_item, lambda x: x[0]):\n",
    "        item_list = [item[1] for item in order_object]\n",
    "              \n",
    "        for item_pair in combinations(item_list, 2):\n",
    "            yield item_pair\n",
    "            \n",
    "\n",
    "# Returns frequency and support associated with item\n",
    "def merge_item_stats(item_pairs, item_stats):\n",
    "    return (item_pairs\n",
    "                .merge(item_stats.rename(columns={'freq': 'freqA', 'support': 'supportA'}), left_on='item_A', right_index=True)\n",
    "                .merge(item_stats.rename(columns={'freq': 'freqB', 'support': 'supportB'}), left_on='item_B', right_index=True))\n",
    "\n",
    "# Returns frequency and support associated with item pairs\n",
    "def combination_count(order_item,qualifying_orders):\n",
    "    \n",
    "        a = pd.DataFrame(order_item.reset_index().groupby('InvoiceNo')['item_id'].apply(list).reset_index())\n",
    "        a['Comb'] = a['item_id'].apply(lambda x:[sorted(i) for i in combinations(x,2)])\n",
    "        Common_list = list(chain(*a['Comb']))\n",
    "        Common_list = [str(i) for i in Common_list]\n",
    "        count_dict = Counter(Common_list)\n",
    "        pair_df = pd.DataFrame({'a':list(count_dict.keys()),\n",
    "             'freqAB':list(count_dict.values())})\n",
    "        pair_df['aa'] = pair_df['a'].apply(ast.literal_eval)\n",
    "        pair_df['item_A'] = pair_df['aa'].apply(lambda x:x[0])\n",
    "        pair_df['item_B'] = pair_df['aa'].apply(lambda x:x[1])\n",
    "        pair_df['supportAB'] = pair_df['freqAB'] / len(qualifying_orders) * 100\n",
    "        return pair_df[['item_A','item_B','freqAB','supportAB']]\n",
    "\n",
    "\n",
    "\n",
    "# Returns name associated with item\n",
    "def merge_item_name(rules, item_name):\n",
    "    columns = ['itemA','itemB','freqAB','supportAB','freqA','supportA','freqB','supportB', \n",
    "               'confidenceAtoB','confidenceBtoA','lift']\n",
    "    rules = (rules\n",
    "                .merge(item_name.rename(columns={'item_name': 'itemA'}), left_on='item_A', right_on='item_id')\n",
    "                .merge(item_name.rename(columns={'item_name': 'itemB'}), left_on='item_B', right_on='item_id'))\n",
    "    return rules[columns]\n",
    "\n"
   ]
  },
  {
   "cell_type": "markdown",
   "metadata": {},
   "source": [
    "### 5.3 Apriori Algorithm"
   ]
  },
  {
   "cell_type": "code",
   "execution_count": 107,
   "metadata": {},
   "outputs": [],
   "source": [
    "def association_rules(order_item, min_support):\n",
    "\n",
    "    print(\"Starting order_item: {:22d}\".format(len(order_item)))\n",
    "\n",
    "\n",
    "    # Calculate item frequency and support\n",
    "    item_stats             = freq(order_item).to_frame(\"freq\")\n",
    "    item_stats['support']  = item_stats['freq'] / order_count(order_item) * 100\n",
    "\n",
    "\n",
    "    # Filter from order_item items below min support \n",
    "    qualifying_items       = item_stats[item_stats['support'] >= min_support].index\n",
    "    order_item             = order_item[order_item.isin(qualifying_items)]\n",
    "\n",
    "    print(\"Items with support >= {}: {:15d}\".format(min_support, len(qualifying_items)))\n",
    "    print(\"Remaining order_item: {:21d}\".format(len(order_item)))\n",
    "\n",
    "\n",
    "    # Filter from order_item orders with less than 2 items\n",
    "    order_size             = freq(order_item.index)\n",
    "    qualifying_orders      = order_size[order_size >= 2].index\n",
    "    order_item             = order_item[order_item.index.isin(qualifying_orders)]\n",
    "\n",
    "    print(\"Remaining orders with 2+ items: {:11d}\".format(len(qualifying_orders)))\n",
    "    print(\"Remaining order_item: {:21d}\".format(len(order_item)))\n",
    "\n",
    "\n",
    "    # Recalculate item frequency and support\n",
    "    item_stats             = freq(order_item).to_frame(\"freq\")\n",
    "    item_stats['support']  = item_stats['freq'] / order_count(order_item) * 100\n",
    "\n",
    "    \n",
    "    # Get item pairs generator\n",
    "    #item_pair_gen          = get_item_pairs(order_item)\n",
    "\n",
    "\n",
    "    # Calculate item pair frequency and support\n",
    "    #item_pairs              = freq(item_pair_gen).to_frame(\"freqAB\")\n",
    "    #item_pairs['supportAB'] = item_pairs['freqAB'] / len(qualifying_orders) * 100\n",
    "\n",
    "    \n",
    "\n",
    "\n",
    "    # Filter from item_pairs those below min support\n",
    "    item_pairs              = combination_count(order_item,qualifying_orders)\n",
    "    print(\"Item pairs: {:31d}\".format(len(item_pairs)))\n",
    "    \n",
    "    item_pairs              = item_pairs[item_pairs['supportAB'] >= min_support]\n",
    "\n",
    "    print(\"Item pairs with support >= {}: {:10d}\\n\".format(min_support, len(item_pairs)))\n",
    "\n",
    "\n",
    "    # Create table of association rules and compute relevant metrics\n",
    "    #item_pairs = item_pairs.reset_index().rename(columns={'level_0': 'item_A', 'level_1': 'item_B'})\n",
    "    item_pairs = merge_item_stats(item_pairs, item_stats)\n",
    "    \n",
    "    item_pairs['confidenceAtoB'] = item_pairs['supportAB'] / item_pairs['supportA']\n",
    "    item_pairs['confidenceBtoA'] = item_pairs['supportAB'] / item_pairs['supportB']\n",
    "    item_pairs['lift']           = item_pairs['supportAB'] / (item_pairs['supportA'] * item_pairs['supportB'])\n",
    "    \n",
    "    \n",
    "    # Return association rules sorted by lift in descending order\n",
    "    return item_pairs.sort_values('lift', ascending=False)"
   ]
  },
  {
   "cell_type": "code",
   "execution_count": 125,
   "metadata": {},
   "outputs": [
    {
     "name": "stdout",
     "output_type": "stream",
     "text": [
      "Starting order_item:                 475953\n",
      "Items with support >= 0.05:            3173\n",
      "Remaining order_item:                472834\n",
      "Remaining orders with 2+ items:       16516\n",
      "Remaining order_item:                470743\n",
      "Item pairs:                         3366478\n",
      "Item pairs with support >= 0.05:     917893\n",
      "\n",
      "CPU times: user 1min 5s, sys: 2.8 s, total: 1min 8s\n",
      "Wall time: 1min 7s\n"
     ]
    }
   ],
   "source": [
    "%%time\n",
    "rules = association_rules(dd, 0.05)"
   ]
  },
  {
   "cell_type": "code",
   "execution_count": 126,
   "metadata": {},
   "outputs": [
    {
     "data": {
      "text/html": [
       "<div>\n",
       "<style scoped>\n",
       "    .dataframe tbody tr th:only-of-type {\n",
       "        vertical-align: middle;\n",
       "    }\n",
       "\n",
       "    .dataframe tbody tr th {\n",
       "        vertical-align: top;\n",
       "    }\n",
       "\n",
       "    .dataframe thead th {\n",
       "        text-align: right;\n",
       "    }\n",
       "</style>\n",
       "<table border=\"1\" class=\"dataframe\">\n",
       "  <thead>\n",
       "    <tr style=\"text-align: right;\">\n",
       "      <th></th>\n",
       "      <th>item_A</th>\n",
       "      <th>item_B</th>\n",
       "      <th>freqAB</th>\n",
       "      <th>supportAB</th>\n",
       "      <th>freqA</th>\n",
       "      <th>supportA</th>\n",
       "      <th>freqB</th>\n",
       "      <th>supportB</th>\n",
       "      <th>confidenceAtoB</th>\n",
       "      <th>confidenceBtoA</th>\n",
       "      <th>lift</th>\n",
       "    </tr>\n",
       "  </thead>\n",
       "  <tbody>\n",
       "    <tr>\n",
       "      <th>410376</th>\n",
       "      <td>37489A</td>\n",
       "      <td>37489B</td>\n",
       "      <td>11</td>\n",
       "      <td>0.066602</td>\n",
       "      <td>14</td>\n",
       "      <td>0.084766</td>\n",
       "      <td>12</td>\n",
       "      <td>0.072657</td>\n",
       "      <td>0.785714</td>\n",
       "      <td>0.916667</td>\n",
       "      <td>10.814048</td>\n",
       "    </tr>\n",
       "    <tr>\n",
       "      <th>410282</th>\n",
       "      <td>37489A</td>\n",
       "      <td>37489D</td>\n",
       "      <td>14</td>\n",
       "      <td>0.084766</td>\n",
       "      <td>14</td>\n",
       "      <td>0.084766</td>\n",
       "      <td>16</td>\n",
       "      <td>0.096876</td>\n",
       "      <td>1.000000</td>\n",
       "      <td>0.875000</td>\n",
       "      <td>10.322500</td>\n",
       "    </tr>\n",
       "    <tr>\n",
       "      <th>410270</th>\n",
       "      <td>37489B</td>\n",
       "      <td>37489D</td>\n",
       "      <td>11</td>\n",
       "      <td>0.066602</td>\n",
       "      <td>12</td>\n",
       "      <td>0.072657</td>\n",
       "      <td>16</td>\n",
       "      <td>0.096876</td>\n",
       "      <td>0.916667</td>\n",
       "      <td>0.687500</td>\n",
       "      <td>9.462292</td>\n",
       "    </tr>\n",
       "    <tr>\n",
       "      <th>445098</th>\n",
       "      <td>84531A</td>\n",
       "      <td>84531B</td>\n",
       "      <td>22</td>\n",
       "      <td>0.133204</td>\n",
       "      <td>26</td>\n",
       "      <td>0.157423</td>\n",
       "      <td>22</td>\n",
       "      <td>0.133204</td>\n",
       "      <td>0.846154</td>\n",
       "      <td>1.000000</td>\n",
       "      <td>6.352308</td>\n",
       "    </tr>\n",
       "    <tr>\n",
       "      <th>696575</th>\n",
       "      <td>90129B</td>\n",
       "      <td>90129C</td>\n",
       "      <td>12</td>\n",
       "      <td>0.072657</td>\n",
       "      <td>20</td>\n",
       "      <td>0.121095</td>\n",
       "      <td>16</td>\n",
       "      <td>0.096876</td>\n",
       "      <td>0.600000</td>\n",
       "      <td>0.750000</td>\n",
       "      <td>6.193500</td>\n",
       "    </tr>\n",
       "    <tr>\n",
       "      <th>412373</th>\n",
       "      <td>20734</td>\n",
       "      <td>20960</td>\n",
       "      <td>9</td>\n",
       "      <td>0.054493</td>\n",
       "      <td>26</td>\n",
       "      <td>0.157423</td>\n",
       "      <td>10</td>\n",
       "      <td>0.060547</td>\n",
       "      <td>0.346154</td>\n",
       "      <td>0.900000</td>\n",
       "      <td>5.717077</td>\n",
       "    </tr>\n",
       "    <tr>\n",
       "      <th>3209535</th>\n",
       "      <td>23429</td>\n",
       "      <td>23430</td>\n",
       "      <td>9</td>\n",
       "      <td>0.054493</td>\n",
       "      <td>19</td>\n",
       "      <td>0.115040</td>\n",
       "      <td>14</td>\n",
       "      <td>0.084766</td>\n",
       "      <td>0.473684</td>\n",
       "      <td>0.642857</td>\n",
       "      <td>5.588120</td>\n",
       "    </tr>\n",
       "    <tr>\n",
       "      <th>441778</th>\n",
       "      <td>51020A</td>\n",
       "      <td>51020B</td>\n",
       "      <td>9</td>\n",
       "      <td>0.054493</td>\n",
       "      <td>18</td>\n",
       "      <td>0.108985</td>\n",
       "      <td>15</td>\n",
       "      <td>0.090821</td>\n",
       "      <td>0.500000</td>\n",
       "      <td>0.600000</td>\n",
       "      <td>5.505333</td>\n",
       "    </tr>\n",
       "    <tr>\n",
       "      <th>696576</th>\n",
       "      <td>90129B</td>\n",
       "      <td>90129E</td>\n",
       "      <td>9</td>\n",
       "      <td>0.054493</td>\n",
       "      <td>20</td>\n",
       "      <td>0.121095</td>\n",
       "      <td>14</td>\n",
       "      <td>0.084766</td>\n",
       "      <td>0.450000</td>\n",
       "      <td>0.642857</td>\n",
       "      <td>5.308714</td>\n",
       "    </tr>\n",
       "    <tr>\n",
       "      <th>412650</th>\n",
       "      <td>20960</td>\n",
       "      <td>47559b</td>\n",
       "      <td>9</td>\n",
       "      <td>0.054493</td>\n",
       "      <td>10</td>\n",
       "      <td>0.060547</td>\n",
       "      <td>28</td>\n",
       "      <td>0.169533</td>\n",
       "      <td>0.900000</td>\n",
       "      <td>0.321429</td>\n",
       "      <td>5.308714</td>\n",
       "    </tr>\n",
       "    <tr>\n",
       "      <th>416295</th>\n",
       "      <td>47559b</td>\n",
       "      <td>85099f</td>\n",
       "      <td>9</td>\n",
       "      <td>0.054493</td>\n",
       "      <td>28</td>\n",
       "      <td>0.169533</td>\n",
       "      <td>10</td>\n",
       "      <td>0.060547</td>\n",
       "      <td>0.321429</td>\n",
       "      <td>0.900000</td>\n",
       "      <td>5.308714</td>\n",
       "    </tr>\n",
       "    <tr>\n",
       "      <th>696545</th>\n",
       "      <td>90129A</td>\n",
       "      <td>90129C</td>\n",
       "      <td>10</td>\n",
       "      <td>0.060547</td>\n",
       "      <td>20</td>\n",
       "      <td>0.121095</td>\n",
       "      <td>16</td>\n",
       "      <td>0.096876</td>\n",
       "      <td>0.500000</td>\n",
       "      <td>0.625000</td>\n",
       "      <td>5.161250</td>\n",
       "    </tr>\n",
       "    <tr>\n",
       "      <th>151179</th>\n",
       "      <td>84870B</td>\n",
       "      <td>84870C</td>\n",
       "      <td>17</td>\n",
       "      <td>0.102930</td>\n",
       "      <td>22</td>\n",
       "      <td>0.133204</td>\n",
       "      <td>25</td>\n",
       "      <td>0.151368</td>\n",
       "      <td>0.772727</td>\n",
       "      <td>0.680000</td>\n",
       "      <td>5.104945</td>\n",
       "    </tr>\n",
       "    <tr>\n",
       "      <th>2208360</th>\n",
       "      <td>23017</td>\n",
       "      <td>23018</td>\n",
       "      <td>10</td>\n",
       "      <td>0.060547</td>\n",
       "      <td>18</td>\n",
       "      <td>0.108985</td>\n",
       "      <td>18</td>\n",
       "      <td>0.108985</td>\n",
       "      <td>0.555556</td>\n",
       "      <td>0.555556</td>\n",
       "      <td>5.097531</td>\n",
       "    </tr>\n",
       "    <tr>\n",
       "      <th>244034</th>\n",
       "      <td>22458</td>\n",
       "      <td>22459</td>\n",
       "      <td>17</td>\n",
       "      <td>0.102930</td>\n",
       "      <td>23</td>\n",
       "      <td>0.139259</td>\n",
       "      <td>24</td>\n",
       "      <td>0.145314</td>\n",
       "      <td>0.739130</td>\n",
       "      <td>0.708333</td>\n",
       "      <td>5.086449</td>\n",
       "    </tr>\n",
       "    <tr>\n",
       "      <th>764114</th>\n",
       "      <td>84509c</td>\n",
       "      <td>84510c</td>\n",
       "      <td>19</td>\n",
       "      <td>0.115040</td>\n",
       "      <td>27</td>\n",
       "      <td>0.163478</td>\n",
       "      <td>23</td>\n",
       "      <td>0.139259</td>\n",
       "      <td>0.703704</td>\n",
       "      <td>0.826087</td>\n",
       "      <td>5.053205</td>\n",
       "    </tr>\n",
       "    <tr>\n",
       "      <th>135850</th>\n",
       "      <td>90129A</td>\n",
       "      <td>90129B</td>\n",
       "      <td>12</td>\n",
       "      <td>0.072657</td>\n",
       "      <td>20</td>\n",
       "      <td>0.121095</td>\n",
       "      <td>20</td>\n",
       "      <td>0.121095</td>\n",
       "      <td>0.600000</td>\n",
       "      <td>0.600000</td>\n",
       "      <td>4.954800</td>\n",
       "    </tr>\n",
       "    <tr>\n",
       "      <th>1061954</th>\n",
       "      <td>22879</td>\n",
       "      <td>22888</td>\n",
       "      <td>10</td>\n",
       "      <td>0.060547</td>\n",
       "      <td>16</td>\n",
       "      <td>0.096876</td>\n",
       "      <td>21</td>\n",
       "      <td>0.127149</td>\n",
       "      <td>0.625000</td>\n",
       "      <td>0.476190</td>\n",
       "      <td>4.915476</td>\n",
       "    </tr>\n",
       "    <tr>\n",
       "      <th>759464</th>\n",
       "      <td>20734</td>\n",
       "      <td>48189</td>\n",
       "      <td>13</td>\n",
       "      <td>0.078712</td>\n",
       "      <td>26</td>\n",
       "      <td>0.157423</td>\n",
       "      <td>17</td>\n",
       "      <td>0.102930</td>\n",
       "      <td>0.500000</td>\n",
       "      <td>0.764706</td>\n",
       "      <td>4.857647</td>\n",
       "    </tr>\n",
       "    <tr>\n",
       "      <th>289769</th>\n",
       "      <td>20759</td>\n",
       "      <td>20760</td>\n",
       "      <td>11</td>\n",
       "      <td>0.066602</td>\n",
       "      <td>20</td>\n",
       "      <td>0.121095</td>\n",
       "      <td>19</td>\n",
       "      <td>0.115040</td>\n",
       "      <td>0.550000</td>\n",
       "      <td>0.578947</td>\n",
       "      <td>4.780947</td>\n",
       "    </tr>\n",
       "  </tbody>\n",
       "</table>\n",
       "</div>"
      ],
      "text/plain": [
       "         item_A  item_B  freqAB  supportAB  freqA  supportA  freqB  supportB  \\\n",
       "410376   37489A  37489B      11   0.066602     14  0.084766     12  0.072657   \n",
       "410282   37489A  37489D      14   0.084766     14  0.084766     16  0.096876   \n",
       "410270   37489B  37489D      11   0.066602     12  0.072657     16  0.096876   \n",
       "445098   84531A  84531B      22   0.133204     26  0.157423     22  0.133204   \n",
       "696575   90129B  90129C      12   0.072657     20  0.121095     16  0.096876   \n",
       "412373    20734   20960       9   0.054493     26  0.157423     10  0.060547   \n",
       "3209535   23429   23430       9   0.054493     19  0.115040     14  0.084766   \n",
       "441778   51020A  51020B       9   0.054493     18  0.108985     15  0.090821   \n",
       "696576   90129B  90129E       9   0.054493     20  0.121095     14  0.084766   \n",
       "412650    20960  47559b       9   0.054493     10  0.060547     28  0.169533   \n",
       "416295   47559b  85099f       9   0.054493     28  0.169533     10  0.060547   \n",
       "696545   90129A  90129C      10   0.060547     20  0.121095     16  0.096876   \n",
       "151179   84870B  84870C      17   0.102930     22  0.133204     25  0.151368   \n",
       "2208360   23017   23018      10   0.060547     18  0.108985     18  0.108985   \n",
       "244034    22458   22459      17   0.102930     23  0.139259     24  0.145314   \n",
       "764114   84509c  84510c      19   0.115040     27  0.163478     23  0.139259   \n",
       "135850   90129A  90129B      12   0.072657     20  0.121095     20  0.121095   \n",
       "1061954   22879   22888      10   0.060547     16  0.096876     21  0.127149   \n",
       "759464    20734   48189      13   0.078712     26  0.157423     17  0.102930   \n",
       "289769    20759   20760      11   0.066602     20  0.121095     19  0.115040   \n",
       "\n",
       "         confidenceAtoB  confidenceBtoA       lift  \n",
       "410376         0.785714        0.916667  10.814048  \n",
       "410282         1.000000        0.875000  10.322500  \n",
       "410270         0.916667        0.687500   9.462292  \n",
       "445098         0.846154        1.000000   6.352308  \n",
       "696575         0.600000        0.750000   6.193500  \n",
       "412373         0.346154        0.900000   5.717077  \n",
       "3209535        0.473684        0.642857   5.588120  \n",
       "441778         0.500000        0.600000   5.505333  \n",
       "696576         0.450000        0.642857   5.308714  \n",
       "412650         0.900000        0.321429   5.308714  \n",
       "416295         0.321429        0.900000   5.308714  \n",
       "696545         0.500000        0.625000   5.161250  \n",
       "151179         0.772727        0.680000   5.104945  \n",
       "2208360        0.555556        0.555556   5.097531  \n",
       "244034         0.739130        0.708333   5.086449  \n",
       "764114         0.703704        0.826087   5.053205  \n",
       "135850         0.600000        0.600000   4.954800  \n",
       "1061954        0.625000        0.476190   4.915476  \n",
       "759464         0.500000        0.764706   4.857647  \n",
       "289769         0.550000        0.578947   4.780947  "
      ]
     },
     "execution_count": 126,
     "metadata": {},
     "output_type": "execute_result"
    }
   ],
   "source": [
    "rules.head(20)"
   ]
  },
  {
   "cell_type": "code",
   "execution_count": 146,
   "metadata": {},
   "outputs": [],
   "source": [
    "stockCodes = df1[df1['Description'].notnull()][['StockCode','Description']].drop_duplicates()"
   ]
  },
  {
   "cell_type": "code",
   "execution_count": 148,
   "metadata": {},
   "outputs": [],
   "source": [
    "stockcode_dict = dict(zip(stockCodes['StockCode'],stockCodes['Description'] ))"
   ]
  },
  {
   "cell_type": "code",
   "execution_count": 172,
   "metadata": {},
   "outputs": [],
   "source": [
    "rules['item_A'] = rules['item_A'].apply(lambda x:stockcode_dict[x] if x in stockcode_dict.keys() else x)\n",
    "rules['item_B'] = rules['item_B'].apply(lambda x:stockcode_dict[x] if x in stockcode_dict.keys() else x)"
   ]
  },
  {
   "cell_type": "code",
   "execution_count": 174,
   "metadata": {},
   "outputs": [
    {
     "data": {
      "text/html": [
       "<div>\n",
       "<style scoped>\n",
       "    .dataframe tbody tr th:only-of-type {\n",
       "        vertical-align: middle;\n",
       "    }\n",
       "\n",
       "    .dataframe tbody tr th {\n",
       "        vertical-align: top;\n",
       "    }\n",
       "\n",
       "    .dataframe thead th {\n",
       "        text-align: right;\n",
       "    }\n",
       "</style>\n",
       "<table border=\"1\" class=\"dataframe\">\n",
       "  <thead>\n",
       "    <tr style=\"text-align: right;\">\n",
       "      <th></th>\n",
       "      <th>item_A</th>\n",
       "      <th>item_B</th>\n",
       "      <th>freqAB</th>\n",
       "      <th>supportAB</th>\n",
       "      <th>freqA</th>\n",
       "      <th>supportA</th>\n",
       "      <th>freqB</th>\n",
       "      <th>supportB</th>\n",
       "      <th>confidenceAtoB</th>\n",
       "      <th>confidenceBtoA</th>\n",
       "      <th>lift</th>\n",
       "    </tr>\n",
       "  </thead>\n",
       "  <tbody>\n",
       "    <tr>\n",
       "      <th>410376</th>\n",
       "      <td>YELLOW/PINK FLOWER DESIGN BIG MUG</td>\n",
       "      <td>BLUE/YELLOW FLOWER DESIGN BIG MUG</td>\n",
       "      <td>11</td>\n",
       "      <td>0.066602</td>\n",
       "      <td>14</td>\n",
       "      <td>0.084766</td>\n",
       "      <td>12</td>\n",
       "      <td>0.072657</td>\n",
       "      <td>0.785714</td>\n",
       "      <td>0.916667</td>\n",
       "      <td>10.814048</td>\n",
       "    </tr>\n",
       "    <tr>\n",
       "      <th>410282</th>\n",
       "      <td>YELLOW/PINK FLOWER DESIGN BIG MUG</td>\n",
       "      <td>PINK/GREEN FLOWER DESIGN BIG MUG</td>\n",
       "      <td>14</td>\n",
       "      <td>0.084766</td>\n",
       "      <td>14</td>\n",
       "      <td>0.084766</td>\n",
       "      <td>16</td>\n",
       "      <td>0.096876</td>\n",
       "      <td>1.000000</td>\n",
       "      <td>0.875000</td>\n",
       "      <td>10.322500</td>\n",
       "    </tr>\n",
       "    <tr>\n",
       "      <th>410270</th>\n",
       "      <td>BLUE/YELLOW FLOWER DESIGN BIG MUG</td>\n",
       "      <td>PINK/GREEN FLOWER DESIGN BIG MUG</td>\n",
       "      <td>11</td>\n",
       "      <td>0.066602</td>\n",
       "      <td>12</td>\n",
       "      <td>0.072657</td>\n",
       "      <td>16</td>\n",
       "      <td>0.096876</td>\n",
       "      <td>0.916667</td>\n",
       "      <td>0.687500</td>\n",
       "      <td>9.462292</td>\n",
       "    </tr>\n",
       "    <tr>\n",
       "      <th>445098</th>\n",
       "      <td>returned</td>\n",
       "      <td>returned</td>\n",
       "      <td>22</td>\n",
       "      <td>0.133204</td>\n",
       "      <td>26</td>\n",
       "      <td>0.157423</td>\n",
       "      <td>22</td>\n",
       "      <td>0.133204</td>\n",
       "      <td>0.846154</td>\n",
       "      <td>1.000000</td>\n",
       "      <td>6.352308</td>\n",
       "    </tr>\n",
       "    <tr>\n",
       "      <th>696575</th>\n",
       "      <td>TURQUOISE GLASS TASSLE BAG CHARM</td>\n",
       "      <td>GREEN GLASS TASSLE BAG CHARM</td>\n",
       "      <td>12</td>\n",
       "      <td>0.072657</td>\n",
       "      <td>20</td>\n",
       "      <td>0.121095</td>\n",
       "      <td>16</td>\n",
       "      <td>0.096876</td>\n",
       "      <td>0.600000</td>\n",
       "      <td>0.750000</td>\n",
       "      <td>6.193500</td>\n",
       "    </tr>\n",
       "    <tr>\n",
       "      <th>412373</th>\n",
       "      <td>SILVER MINI TAPE MEASURE</td>\n",
       "      <td>WATERMELON BATH SPONGE</td>\n",
       "      <td>9</td>\n",
       "      <td>0.054493</td>\n",
       "      <td>26</td>\n",
       "      <td>0.157423</td>\n",
       "      <td>10</td>\n",
       "      <td>0.060547</td>\n",
       "      <td>0.346154</td>\n",
       "      <td>0.900000</td>\n",
       "      <td>5.717077</td>\n",
       "    </tr>\n",
       "    <tr>\n",
       "      <th>3209535</th>\n",
       "      <td>RED RETRO KITCHEN WALL CLOCK</td>\n",
       "      <td>BLUE RETRO KITCHEN WALL CLOCK</td>\n",
       "      <td>9</td>\n",
       "      <td>0.054493</td>\n",
       "      <td>19</td>\n",
       "      <td>0.115040</td>\n",
       "      <td>14</td>\n",
       "      <td>0.084766</td>\n",
       "      <td>0.473684</td>\n",
       "      <td>0.642857</td>\n",
       "      <td>5.588120</td>\n",
       "    </tr>\n",
       "    <tr>\n",
       "      <th>441778</th>\n",
       "      <td>adjustment</td>\n",
       "      <td>STRIPY DESIGN SHOWER CAP</td>\n",
       "      <td>9</td>\n",
       "      <td>0.054493</td>\n",
       "      <td>18</td>\n",
       "      <td>0.108985</td>\n",
       "      <td>15</td>\n",
       "      <td>0.090821</td>\n",
       "      <td>0.500000</td>\n",
       "      <td>0.600000</td>\n",
       "      <td>5.505333</td>\n",
       "    </tr>\n",
       "    <tr>\n",
       "      <th>696576</th>\n",
       "      <td>TURQUOISE GLASS TASSLE BAG CHARM</td>\n",
       "      <td>PURPLE GLASS TASSLE BAG CHARM</td>\n",
       "      <td>9</td>\n",
       "      <td>0.054493</td>\n",
       "      <td>20</td>\n",
       "      <td>0.121095</td>\n",
       "      <td>14</td>\n",
       "      <td>0.084766</td>\n",
       "      <td>0.450000</td>\n",
       "      <td>0.642857</td>\n",
       "      <td>5.308714</td>\n",
       "    </tr>\n",
       "    <tr>\n",
       "      <th>412650</th>\n",
       "      <td>WATERMELON BATH SPONGE</td>\n",
       "      <td>TEA TIME OVEN GLOVE</td>\n",
       "      <td>9</td>\n",
       "      <td>0.054493</td>\n",
       "      <td>10</td>\n",
       "      <td>0.060547</td>\n",
       "      <td>28</td>\n",
       "      <td>0.169533</td>\n",
       "      <td>0.900000</td>\n",
       "      <td>0.321429</td>\n",
       "      <td>5.308714</td>\n",
       "    </tr>\n",
       "    <tr>\n",
       "      <th>416295</th>\n",
       "      <td>TEA TIME OVEN GLOVE</td>\n",
       "      <td>JUMBO BAG STRAWBERRY</td>\n",
       "      <td>9</td>\n",
       "      <td>0.054493</td>\n",
       "      <td>28</td>\n",
       "      <td>0.169533</td>\n",
       "      <td>10</td>\n",
       "      <td>0.060547</td>\n",
       "      <td>0.321429</td>\n",
       "      <td>0.900000</td>\n",
       "      <td>5.308714</td>\n",
       "    </tr>\n",
       "    <tr>\n",
       "      <th>696545</th>\n",
       "      <td>PINK GLASS TASSLE BAG CHARM</td>\n",
       "      <td>GREEN GLASS TASSLE BAG CHARM</td>\n",
       "      <td>10</td>\n",
       "      <td>0.060547</td>\n",
       "      <td>20</td>\n",
       "      <td>0.121095</td>\n",
       "      <td>16</td>\n",
       "      <td>0.096876</td>\n",
       "      <td>0.500000</td>\n",
       "      <td>0.625000</td>\n",
       "      <td>5.161250</td>\n",
       "    </tr>\n",
       "    <tr>\n",
       "      <th>151179</th>\n",
       "      <td>BLUE GEISHA GIRL</td>\n",
       "      <td>GREEN GEISHA GIRL</td>\n",
       "      <td>17</td>\n",
       "      <td>0.102930</td>\n",
       "      <td>22</td>\n",
       "      <td>0.133204</td>\n",
       "      <td>25</td>\n",
       "      <td>0.151368</td>\n",
       "      <td>0.772727</td>\n",
       "      <td>0.680000</td>\n",
       "      <td>5.104945</td>\n",
       "    </tr>\n",
       "    <tr>\n",
       "      <th>2208360</th>\n",
       "      <td>APOTHECARY MEASURING JAR</td>\n",
       "      <td>LARGE APOTHECARY MEASURING JAR</td>\n",
       "      <td>10</td>\n",
       "      <td>0.060547</td>\n",
       "      <td>18</td>\n",
       "      <td>0.108985</td>\n",
       "      <td>18</td>\n",
       "      <td>0.108985</td>\n",
       "      <td>0.555556</td>\n",
       "      <td>0.555556</td>\n",
       "      <td>5.097531</td>\n",
       "    </tr>\n",
       "    <tr>\n",
       "      <th>244034</th>\n",
       "      <td>CAST IRON HOOK GARDEN FORK</td>\n",
       "      <td>CAST IRON HOOK GARDEN TROWEL</td>\n",
       "      <td>17</td>\n",
       "      <td>0.102930</td>\n",
       "      <td>23</td>\n",
       "      <td>0.139259</td>\n",
       "      <td>24</td>\n",
       "      <td>0.145314</td>\n",
       "      <td>0.739130</td>\n",
       "      <td>0.708333</td>\n",
       "      <td>5.086449</td>\n",
       "    </tr>\n",
       "    <tr>\n",
       "      <th>764114</th>\n",
       "      <td>SET OF 4 POLKADOT PLACEMATS</td>\n",
       "      <td>SET OF 4 POLKADOT COASTERS</td>\n",
       "      <td>19</td>\n",
       "      <td>0.115040</td>\n",
       "      <td>27</td>\n",
       "      <td>0.163478</td>\n",
       "      <td>23</td>\n",
       "      <td>0.139259</td>\n",
       "      <td>0.703704</td>\n",
       "      <td>0.826087</td>\n",
       "      <td>5.053205</td>\n",
       "    </tr>\n",
       "    <tr>\n",
       "      <th>135850</th>\n",
       "      <td>PINK GLASS TASSLE BAG CHARM</td>\n",
       "      <td>TURQUOISE GLASS TASSLE BAG CHARM</td>\n",
       "      <td>12</td>\n",
       "      <td>0.072657</td>\n",
       "      <td>20</td>\n",
       "      <td>0.121095</td>\n",
       "      <td>20</td>\n",
       "      <td>0.121095</td>\n",
       "      <td>0.600000</td>\n",
       "      <td>0.600000</td>\n",
       "      <td>4.954800</td>\n",
       "    </tr>\n",
       "    <tr>\n",
       "      <th>1061954</th>\n",
       "      <td>NUMBER TILE VINTAGE FONT 0</td>\n",
       "      <td>NUMBER TILE VINTAGE FONT 9</td>\n",
       "      <td>10</td>\n",
       "      <td>0.060547</td>\n",
       "      <td>16</td>\n",
       "      <td>0.096876</td>\n",
       "      <td>21</td>\n",
       "      <td>0.127149</td>\n",
       "      <td>0.625000</td>\n",
       "      <td>0.476190</td>\n",
       "      <td>4.915476</td>\n",
       "    </tr>\n",
       "    <tr>\n",
       "      <th>759464</th>\n",
       "      <td>SILVER MINI TAPE MEASURE</td>\n",
       "      <td>adjustment</td>\n",
       "      <td>13</td>\n",
       "      <td>0.078712</td>\n",
       "      <td>26</td>\n",
       "      <td>0.157423</td>\n",
       "      <td>17</td>\n",
       "      <td>0.102930</td>\n",
       "      <td>0.500000</td>\n",
       "      <td>0.764706</td>\n",
       "      <td>4.857647</td>\n",
       "    </tr>\n",
       "    <tr>\n",
       "      <th>289769</th>\n",
       "      <td>CHRYSANTHEMUM POCKET BOOK</td>\n",
       "      <td>GARDEN PATH POCKET BOOK</td>\n",
       "      <td>11</td>\n",
       "      <td>0.066602</td>\n",
       "      <td>20</td>\n",
       "      <td>0.121095</td>\n",
       "      <td>19</td>\n",
       "      <td>0.115040</td>\n",
       "      <td>0.550000</td>\n",
       "      <td>0.578947</td>\n",
       "      <td>4.780947</td>\n",
       "    </tr>\n",
       "  </tbody>\n",
       "</table>\n",
       "</div>"
      ],
      "text/plain": [
       "                                    item_A                             item_B  \\\n",
       "410376   YELLOW/PINK FLOWER DESIGN BIG MUG  BLUE/YELLOW FLOWER DESIGN BIG MUG   \n",
       "410282   YELLOW/PINK FLOWER DESIGN BIG MUG   PINK/GREEN FLOWER DESIGN BIG MUG   \n",
       "410270   BLUE/YELLOW FLOWER DESIGN BIG MUG   PINK/GREEN FLOWER DESIGN BIG MUG   \n",
       "445098                            returned                           returned   \n",
       "696575   TURQUOISE GLASS TASSLE BAG CHARM        GREEN GLASS TASSLE BAG CHARM   \n",
       "412373           SILVER MINI TAPE MEASURE              WATERMELON BATH SPONGE   \n",
       "3209535       RED RETRO KITCHEN WALL CLOCK      BLUE RETRO KITCHEN WALL CLOCK   \n",
       "441778                          adjustment           STRIPY DESIGN SHOWER CAP   \n",
       "696576   TURQUOISE GLASS TASSLE BAG CHARM       PURPLE GLASS TASSLE BAG CHARM   \n",
       "412650              WATERMELON BATH SPONGE                TEA TIME OVEN GLOVE   \n",
       "416295                 TEA TIME OVEN GLOVE               JUMBO BAG STRAWBERRY   \n",
       "696545        PINK GLASS TASSLE BAG CHARM        GREEN GLASS TASSLE BAG CHARM   \n",
       "151179                   BLUE GEISHA GIRL                  GREEN GEISHA GIRL    \n",
       "2208360           APOTHECARY MEASURING JAR    LARGE APOTHECARY MEASURING JAR    \n",
       "244034          CAST IRON HOOK GARDEN FORK       CAST IRON HOOK GARDEN TROWEL   \n",
       "764114        SET OF 4 POLKADOT PLACEMATS          SET OF 4 POLKADOT COASTERS   \n",
       "135850        PINK GLASS TASSLE BAG CHARM   TURQUOISE GLASS TASSLE BAG CHARM    \n",
       "1061954         NUMBER TILE VINTAGE FONT 0        NUMBER TILE VINTAGE FONT 9    \n",
       "759464           SILVER MINI TAPE MEASURE                          adjustment   \n",
       "289769          CHRYSANTHEMUM POCKET BOOK             GARDEN PATH POCKET BOOK   \n",
       "\n",
       "         freqAB  supportAB  freqA  supportA  freqB  supportB  confidenceAtoB  \\\n",
       "410376       11   0.066602     14  0.084766     12  0.072657        0.785714   \n",
       "410282       14   0.084766     14  0.084766     16  0.096876        1.000000   \n",
       "410270       11   0.066602     12  0.072657     16  0.096876        0.916667   \n",
       "445098       22   0.133204     26  0.157423     22  0.133204        0.846154   \n",
       "696575       12   0.072657     20  0.121095     16  0.096876        0.600000   \n",
       "412373        9   0.054493     26  0.157423     10  0.060547        0.346154   \n",
       "3209535       9   0.054493     19  0.115040     14  0.084766        0.473684   \n",
       "441778        9   0.054493     18  0.108985     15  0.090821        0.500000   \n",
       "696576        9   0.054493     20  0.121095     14  0.084766        0.450000   \n",
       "412650        9   0.054493     10  0.060547     28  0.169533        0.900000   \n",
       "416295        9   0.054493     28  0.169533     10  0.060547        0.321429   \n",
       "696545       10   0.060547     20  0.121095     16  0.096876        0.500000   \n",
       "151179       17   0.102930     22  0.133204     25  0.151368        0.772727   \n",
       "2208360      10   0.060547     18  0.108985     18  0.108985        0.555556   \n",
       "244034       17   0.102930     23  0.139259     24  0.145314        0.739130   \n",
       "764114       19   0.115040     27  0.163478     23  0.139259        0.703704   \n",
       "135850       12   0.072657     20  0.121095     20  0.121095        0.600000   \n",
       "1061954      10   0.060547     16  0.096876     21  0.127149        0.625000   \n",
       "759464       13   0.078712     26  0.157423     17  0.102930        0.500000   \n",
       "289769       11   0.066602     20  0.121095     19  0.115040        0.550000   \n",
       "\n",
       "         confidenceBtoA       lift  \n",
       "410376         0.916667  10.814048  \n",
       "410282         0.875000  10.322500  \n",
       "410270         0.687500   9.462292  \n",
       "445098         1.000000   6.352308  \n",
       "696575         0.750000   6.193500  \n",
       "412373         0.900000   5.717077  \n",
       "3209535        0.642857   5.588120  \n",
       "441778         0.600000   5.505333  \n",
       "696576         0.642857   5.308714  \n",
       "412650         0.321429   5.308714  \n",
       "416295         0.900000   5.308714  \n",
       "696545         0.625000   5.161250  \n",
       "151179         0.680000   5.104945  \n",
       "2208360        0.555556   5.097531  \n",
       "244034         0.708333   5.086449  \n",
       "764114         0.826087   5.053205  \n",
       "135850         0.600000   4.954800  \n",
       "1061954        0.476190   4.915476  \n",
       "759464         0.764706   4.857647  \n",
       "289769         0.578947   4.780947  "
      ]
     },
     "execution_count": 174,
     "metadata": {},
     "output_type": "execute_result"
    }
   ],
   "source": [
    "rules.head(20)"
   ]
  },
  {
   "cell_type": "markdown",
   "metadata": {},
   "source": [
    "## 5.4 Result Interpretation\n",
    "\n",
    "-As We can see, similar product have higher association. Customers have shown tendency to buy similar kind of product together.<br>\n",
    "***\n",
    "-Like the different color variant of 'Flower design Big Mug', Customer have shown tendency to buy them together, as it make sense as people like to have set of mugs of different colors<br>\n",
    "***\n",
    "-As mentioned, one common application of association rules mining is in the domain of recommender systems. Once item pairs have been identified as having positive relationship, recommendations can be made to customers in order to increase sales<br>"
   ]
  },
  {
   "cell_type": "code",
   "execution_count": null,
   "metadata": {},
   "outputs": [],
   "source": []
  },
  {
   "cell_type": "code",
   "execution_count": null,
   "metadata": {},
   "outputs": [],
   "source": []
  },
  {
   "cell_type": "code",
   "execution_count": null,
   "metadata": {},
   "outputs": [],
   "source": []
  }
 ],
 "metadata": {
  "kernelspec": {
   "display_name": "Python 3",
   "language": "python",
   "name": "python3"
  },
  "language_info": {
   "codemirror_mode": {
    "name": "ipython",
    "version": 3
   },
   "file_extension": ".py",
   "mimetype": "text/x-python",
   "name": "python",
   "nbconvert_exporter": "python",
   "pygments_lexer": "ipython3",
   "version": "3.7.6"
  }
 },
 "nbformat": 4,
 "nbformat_minor": 4
}
